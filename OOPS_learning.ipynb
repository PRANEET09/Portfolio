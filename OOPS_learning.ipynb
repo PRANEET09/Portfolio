{
  "nbformat": 4,
  "nbformat_minor": 0,
  "metadata": {
    "colab": {
      "provenance": [],
      "authorship_tag": "ABX9TyORkwdfiIR1B+dy0x4/N/RT"
    },
    "kernelspec": {
      "name": "python3",
      "display_name": "Python 3"
    },
    "language_info": {
      "name": "python"
    }
  },
  "cells": [
    {
      "cell_type": "markdown",
      "source": [
        "Case study 1:\n",
        "To understand the concepts of learning the concepts of oop paradigm"
      ],
      "metadata": {
        "id": "M-EX82D2RarN"
      }
    },
    {
      "cell_type": "code",
      "source": [
        "class LanguageStudent:\n",
        "    def __init__(self, language=None):\n",
        "        self.languages = []\n",
        "        if language:\n",
        "            self.languages.append(language)\n",
        "\n",
        "    def add_language(self, language):\n",
        "        self.languages.append(language)\n",
        "\n",
        "    def print_languages(self):\n",
        "        print(\"Languages known:\", self.languages)\n",
        "\n",
        "class LanguageTeacher(LanguageStudent):\n",
        "    def __init__(self):\n",
        "        super().__init__()\n",
        "\n",
        "    def teach(self, student, language):\n",
        "        if language in self.languages:\n",
        "            student.add_language(language)\n",
        "            return True\n",
        "        else:\n",
        "            return False\n",
        "\n",
        "# Create instances and add languages for students\n",
        "student1 = LanguageStudent('Python')\n",
        "student2 = LanguageStudent('SQL')\n",
        "\n",
        "# Create a teacher and add languages\n",
        "teacher = LanguageTeacher()\n",
        "teacher.add_language('Java')\n",
        "teacher.add_language('English')\n",
        "\n",
        "# Teaching a language\n",
        "student3 = LanguageStudent('C#')\n",
        "\n",
        "student1.print_languages()\n",
        "student2.print_languages()\n",
        "student3.print_languages()\n",
        "\n",
        "teacher.print_languages()\n",
        "\n",
        "# Check if the teacher can teach a language\n",
        "if teacher.teach(student3, 'Java'):\n",
        "    print(f\"student3 successfully learned Java!\")\n",
        "else:\n",
        "    print(f\"Java is not in the teacher's list of languages.\")\n",
        "\n",
        "# Check if the teacher can teach another language\n",
        "if teacher.teach(student3, 'C#'):\n",
        "    print(f\" student3 successfully learned C#!\")\n",
        "else:\n",
        "    print(f\"C# is not in the teacher's list of languages.\")\n",
        "\n",
        "# Print all the languages known\n",
        "student1.print_languages()\n",
        "student2.print_languages()\n",
        "student3.print_languages()"
      ],
      "metadata": {
        "colab": {
          "base_uri": "https://localhost:8080/"
        },
        "id": "u51uNtUsQoWD",
        "outputId": "9cee1eb1-9009-498f-e33b-682724a6ae57"
      },
      "execution_count": 4,
      "outputs": [
        {
          "output_type": "stream",
          "name": "stdout",
          "text": [
            "Languages known: ['Python']\n",
            "Languages known: ['SQL']\n",
            "Languages known: ['C#']\n",
            "Languages known: ['Java', 'English']\n",
            "student3 successfully learned Java!\n",
            "C# is not in the teacher's list of languages.\n",
            "Languages known: ['Python']\n",
            "Languages known: ['SQL']\n",
            "Languages known: ['C#', 'Java']\n"
          ]
        }
      ]
    },
    {
      "cell_type": "markdown",
      "source": [
        "Case study 2"
      ],
      "metadata": {
        "id": "5eZKhcnYRX72"
      }
    },
    {
      "cell_type": "code",
      "source": [
        "def count_internal_nodes(tree):\n",
        "    # create a set to to stoee unique internalnodes\n",
        "\n",
        "    internal_nodes = set()\n",
        "\n",
        "    # traverse the list tree to identify internal node\n",
        "\n",
        "    for parent in tree:\n",
        "        if parent!= -1 : # Avoid the root node\n",
        "            internal_nodes.add(parent)\n",
        "\n",
        "    # return the number of internal nodes in the list\n",
        "\n",
        "    return len(internal_nodes)\n",
        "\n",
        "\n",
        "#test\n",
        "tree = [1, 3, 1, -1, 3]\n",
        "print (count_internal_nodes(tree)) # should print 2"
      ],
      "metadata": {
        "colab": {
          "base_uri": "https://localhost:8080/"
        },
        "id": "SEO99wJuRRbf",
        "outputId": "bcebc0e0-d809-4230-bce2-cbc23198da87"
      },
      "execution_count": 3,
      "outputs": [
        {
          "output_type": "stream",
          "name": "stdout",
          "text": [
            "2\n"
          ]
        }
      ]
    },
    {
      "cell_type": "markdown",
      "source": [
        "Case study 3 -\n",
        "\n",
        "Read the csv file and clean the data"
      ],
      "metadata": {
        "id": "hStbmMlPRcd6"
      }
    },
    {
      "cell_type": "code",
      "execution_count": 1,
      "metadata": {
        "colab": {
          "base_uri": "https://localhost:8080/"
        },
        "id": "kJ_UHiziQPwH",
        "outputId": "f5dce034-97a6-4335-ddc5-03e312d13015"
      },
      "outputs": [
        {
          "output_type": "stream",
          "name": "stdout",
          "text": [
            "John,Doe\n",
            "Ann,Franklin\n",
            "\n"
          ]
        }
      ],
      "source": [
        "from io import StringIO\n",
        "import pandas as pd\n",
        "\n",
        "def clean_csv(input_stream):\n",
        "     # Initialize StringIO for cleaned CSV data\n",
        "    cleaned_data = StringIO()\n",
        "\n",
        "    # Split the CSV data into lines\n",
        "    lines = input_stream.getvalue().splitlines()\n",
        "\n",
        "    # Skip the header row\n",
        "    header = lines.pop(0)\n",
        "\n",
        "    # Iterate over rows in the input CSV data\n",
        "    for line in lines:\n",
        "        # Split the line into fields\n",
        "        fields = line.split(',')\n",
        "\n",
        "        # Check if the row contains any missing data points\n",
        "        if all(fields):\n",
        "            # Write the row to the cleaned data\n",
        "            cleaned_data.write(','.join(fields) + '\\n')\n",
        "\n",
        "    # Get the cleaned CSV data as a string\n",
        "    cleaned_data_str = cleaned_data.getvalue()\n",
        "\n",
        "    # Close the StringIO objects\n",
        "    input_stream.close()\n",
        "    cleaned_data.close()\n",
        "\n",
        "    # Return the cleaned CSV data as a string\n",
        "    return cleaned_data_str\n",
        "\n",
        "# Testing\n",
        "input_stream = StringIO(\"Name,Surname\\nJohn,Doe\\nAnn,Franklin\")\n",
        "result_csv = clean_csv(input_stream)\n",
        "\n",
        "print(result_csv)"
      ]
    }
  ]
}