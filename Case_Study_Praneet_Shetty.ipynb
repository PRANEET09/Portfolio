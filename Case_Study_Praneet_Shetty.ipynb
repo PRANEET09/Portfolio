{
  "nbformat": 4,
  "nbformat_minor": 0,
  "metadata": {
    "colab": {
      "provenance": [],
      "gpuType": "T4",
      "mount_file_id": "1MmAvxG0pKf3hVJ4wJRpJjsmgQfuu0qsh",
      "authorship_tag": "ABX9TyN9QdZm8LKD8+z9OqH2QRCF"
    },
    "kernelspec": {
      "name": "python3",
      "display_name": "Python 3"
    },
    "language_info": {
      "name": "python"
    },
    "accelerator": "GPU"
  },
  "cells": [
    {
      "cell_type": "markdown",
      "source": [
        "**Data Science Challenge**\n",
        "\n",
        " Case Study\n",
        "\n",
        "Company is currently supporting the growth and strategic direction of an\n",
        "online ecommerce business. This business currently has a large drop\n",
        "off rate with many online customers failing to add an item to cart after\n",
        "a session online. In 2024 this business wants to tackle this issue and\n",
        "increase online conversion rates therefore driving hig her revenue and\n",
        "increasing their customer base.\n",
        "Challenge is two-fold:\n",
        "1. Build a predictive model that can identify a customer's propensity\n",
        "to purchase using data related to their website behavior\n",
        "2. Answer a set of questions related to this model, that are set out in\n",
        "detail, later in this pack."
      ],
      "metadata": {
        "id": "EZZrS8vhE91Y"
      }
    },
    {
      "cell_type": "markdown",
      "source": [
        "For this challenge, we have a data related to the  website behavior\n",
        "\n",
        "**Data Description**\n",
        "\n",
        "1.   fullVisitorId - The unique visitor ID.\n",
        "2.   visitStartTime - The timestamp (expressed as POSIX time).\n",
        "3.   date - The date of the session.\n",
        "4.   deviceCategory - The type of device (Mobile, Tablet, Desktop).\n",
        "5.   isMobile - If the user is on a mobile device, this value is true, otherwise false.\n",
        "6.   operatingSystem -  The operating system of the device (e.g., \"Macintosh\" or \"Windows\").\n",
        "7.   browser -The browser used (e.g., \"Chrome\" or \"Firefox\").\n",
        "8.   country - The country from which sessions originated, based on IP address.\n",
        "9.   city    - Users' city, derived from their IP addresses or Geographical IDs\n",
        "10.  trafficSource - The source of the traffic source. Could be the name of the search engine, the referring hostname, or a value of the utm_source URL\n",
        "parameter.\n",
        "11.  trafficMedium - The medium of the traffic source. Could be \"organic\", \"cpc\", \"referral\", or the value of the utm_medium URL parameter.\n",
        "12.  trafficCampaign - The campaign value. Usually set by the utm_campaign URL parameter.\n",
        "13.  isFirstVisit - 1 if this is the first visit made by the visitor, otherwise 0.\n",
        "14.  isBounce - 1 if the visitor went to only one webpage and did not come back, otherwise 0.\n",
        "15.  totalVisits - The total number of visits by the visitor across sessions.\n",
        "16.  totalHits - The total number of interactions across sessions.\n",
        "17.  totalPageviews - The total number of page views across sessions.\n",
        "18.  totalTimeOnSite - The total time on site.\n",
        "19.  totalTransactions - The total number of interactions across sessions.\n",
        "20.  productPagesViewed - The number of product pages viewed in the session.\n",
        "21.  addedToCart - If the visitor added an item to the cart or made further downstream - actions (checkout, transaction), otherwise 0 (if the visitor only browsed but never added an item to the cart).\n",
        "\n",
        "\n",
        "\n"
      ],
      "metadata": {
        "id": "I2g9Zg4FLKtA"
      }
    },
    {
      "cell_type": "markdown",
      "source": [
        "**Importing All the required packages and libraries**\n"
      ],
      "metadata": {
        "id": "ucN_NVdDOJ4O"
      }
    },
    {
      "cell_type": "code",
      "source": [
        "import os\n",
        "import time\n",
        "import pickle\n",
        "import re\n",
        "import numpy as np\n",
        "import pandas as pd\n",
        "import uuid\n",
        "import matplotlib.pyplot as plt\n",
        "import seaborn as sns\n",
        "import re\n",
        "import shap\n",
        "\n",
        "#Pre-processing\n",
        "from sklearn.model_selection import train_test_split\n",
        "from sklearn.metrics import accuracy_score, confusion_matrix\n",
        "from sklearn import model_selection\n",
        "from sklearn.preprocessing import StandardScaler\n",
        "from sklearn.preprocessing import LabelEncoder\n",
        "\n",
        "#MachineLEarning Models\n",
        "\n",
        "from sklearn.ensemble import RandomForestClassifier\n",
        "from sklearn.tree import DecisionTreeClassifier\n",
        "#from sklearn import naive_bayes\n",
        "from sklearn.linear_model import LogisticRegression\n",
        "#from sklearn.svm import SVC\n",
        "from xgboost import XGBClassifier\n",
        "from sklearn.ensemble import RandomForestClassifier, GradientBoostingClassifier\n",
        "import xgboost as xgb\n"
      ],
      "metadata": {
        "id": "lm-LyM2eOWUw"
      },
      "execution_count": null,
      "outputs": []
    },
    {
      "cell_type": "markdown",
      "source": [
        "**Defining Functions**"
      ],
      "metadata": {
        "id": "84A1EVhkfj5t"
      }
    },
    {
      "cell_type": "code",
      "source": [
        "def number_to_uuid(num):\n",
        "    return uuid.uuid5(uuid.NAMESPACE_URL, str(num))\n",
        "\n",
        "def clean_key(value):\n",
        "    value = re.sub(r'\\.com$', '', value)  # Remove \".com\" at the end\n",
        "    value = re.sub(r'\\s+', '', value)  # Remove spaces\n",
        "    value = re.sub(r'\\W+', '', value)  # Remove non-word characters (special characters)\n",
        "\n",
        "    return value"
      ],
      "metadata": {
        "id": "zV2mIG8PfnKT"
      },
      "execution_count": null,
      "outputs": []
    },
    {
      "cell_type": "markdown",
      "source": [
        "**Data Loading**"
      ],
      "metadata": {
        "id": "4FvuG7voOAj2"
      }
    },
    {
      "cell_type": "code",
      "source": [
        "#setting the path to coorect folder\n",
        "path = '/content/drive/MyDrive/Data'\n",
        "os.chdir(path)\n",
        "os.getcwd()"
      ],
      "metadata": {
        "id": "EYqu5SnuUmOx",
        "colab": {
          "base_uri": "https://localhost:8080/",
          "height": 35
        },
        "outputId": "878ab3e1-b18b-406b-a78e-92f88d269609"
      },
      "execution_count": null,
      "outputs": [
        {
          "output_type": "execute_result",
          "data": {
            "text/plain": [
              "'/content/drive/MyDrive/Data'"
            ],
            "application/vnd.google.colaboratory.intrinsic+json": {
              "type": "string"
            }
          },
          "metadata": {},
          "execution_count": 28
        }
      ]
    },
    {
      "cell_type": "code",
      "source": [
        "data = pd.read_csv('Data Curated.csv')"
      ],
      "metadata": {
        "id": "kKfvqRVRF53e",
        "colab": {
          "base_uri": "https://localhost:8080/"
        },
        "outputId": "f86ffbc6-0020-402f-fe3a-ba844c2677bb"
      },
      "execution_count": null,
      "outputs": [
        {
          "output_type": "stream",
          "name": "stderr",
          "text": [
            "<ipython-input-29-d22aacfb2aff>:1: DtypeWarning: Columns (0) have mixed types. Specify dtype option on import or set low_memory=False.\n",
            "  data = pd.read_csv('Data Curated.csv')\n"
          ]
        }
      ]
    },
    {
      "cell_type": "code",
      "source": [
        "data.info()"
      ],
      "metadata": {
        "id": "JnIgNhMSJset",
        "colab": {
          "base_uri": "https://localhost:8080/"
        },
        "outputId": "10620432-6355-4116-fc75-c34e538f6112"
      },
      "execution_count": null,
      "outputs": [
        {
          "output_type": "stream",
          "name": "stdout",
          "text": [
            "<class 'pandas.core.frame.DataFrame'>\n",
            "RangeIndex: 765707 entries, 0 to 765706\n",
            "Data columns (total 19 columns):\n",
            " #   Column              Non-Null Count   Dtype \n",
            "---  ------              --------------   ----- \n",
            " 0   fullVisitorId       765707 non-null  object\n",
            " 1   visitStartTime      765707 non-null  int64 \n",
            " 2   date                765707 non-null  object\n",
            " 3   deviceCategory      765707 non-null  object\n",
            " 4   isMobile            765707 non-null  bool  \n",
            " 5   operatingSystem     765707 non-null  object\n",
            " 6   browser             765707 non-null  object\n",
            " 7   country             765707 non-null  object\n",
            " 8   city                765707 non-null  object\n",
            " 9   trafficSource       765707 non-null  object\n",
            " 10  trafficMedium       765707 non-null  object\n",
            " 11  trafficCampaign     765707 non-null  object\n",
            " 12  isFirstVisit        765707 non-null  int64 \n",
            " 13  totalVisits         765707 non-null  int64 \n",
            " 14  totalHits           765707 non-null  int64 \n",
            " 15  totalPageviews      765707 non-null  int64 \n",
            " 16  totalTimeOnSite     765707 non-null  int64 \n",
            " 17  productPagesViewed  765707 non-null  int64 \n",
            " 18  addedToCart         765707 non-null  int64 \n",
            "dtypes: bool(1), int64(8), object(10)\n",
            "memory usage: 105.9+ MB\n"
          ]
        }
      ]
    },
    {
      "cell_type": "code",
      "source": [
        "data.head()"
      ],
      "metadata": {
        "id": "o8bGz0WZT-o8",
        "colab": {
          "base_uri": "https://localhost:8080/",
          "height": 417
        },
        "outputId": "4469d437-1744-4076-e63c-a2dd9b7bc06e"
      },
      "execution_count": null,
      "outputs": [
        {
          "output_type": "execute_result",
          "data": {
            "text/plain": [
              "           fullVisitorId  visitStartTime        date deviceCategory  isMobile  \\\n",
              "0   271404407559213408.0      1486853631  2023-02-11         tablet      True   \n",
              "1  7357823685878908928.0      1479458674  2022-11-18         mobile      True   \n",
              "2   798533321440560384.0      1480021304  2022-11-24         mobile      True   \n",
              "3  9138428854186547200.0      1480884549  2022-12-04         mobile      True   \n",
              "4  4410119776419873792.0      1491796955  2023-04-09         mobile      True   \n",
              "\n",
              "  operatingSystem browser        country                           city  \\\n",
              "0             iOS  Chrome  United States  not available in demo dataset   \n",
              "1             iOS  Safari  United States                  Mountain View   \n",
              "2             iOS  Safari  United States  not available in demo dataset   \n",
              "3             iOS  Safari  United States  not available in demo dataset   \n",
              "4             iOS  Chrome  United States                      Palo Alto   \n",
              "\n",
              "  trafficSource trafficMedium trafficCampaign  isFirstVisit  totalVisits  \\\n",
              "0           dfa           cpm       (not set)             0            1   \n",
              "1           dfa           cpm       (not set)             0            1   \n",
              "2           dfa           cpm       (not set)             0            1   \n",
              "3           dfa           cpm       (not set)             0            1   \n",
              "4           dfa           cpm       (not set)             0            1   \n",
              "\n",
              "   totalHits  totalPageviews  totalTimeOnSite  productPagesViewed  addedToCart  \n",
              "0          1               1                0                   0            0  \n",
              "1          1               1                0                   0            0  \n",
              "2          1               1                0                   0            0  \n",
              "3          1               1                0                   0            0  \n",
              "4          1               1                0                   0            0  "
            ],
            "text/html": [
              "\n",
              "  <div id=\"df-7533bfd2-0032-4923-bb5f-ab598926a04e\" class=\"colab-df-container\">\n",
              "    <div>\n",
              "<style scoped>\n",
              "    .dataframe tbody tr th:only-of-type {\n",
              "        vertical-align: middle;\n",
              "    }\n",
              "\n",
              "    .dataframe tbody tr th {\n",
              "        vertical-align: top;\n",
              "    }\n",
              "\n",
              "    .dataframe thead th {\n",
              "        text-align: right;\n",
              "    }\n",
              "</style>\n",
              "<table border=\"1\" class=\"dataframe\">\n",
              "  <thead>\n",
              "    <tr style=\"text-align: right;\">\n",
              "      <th></th>\n",
              "      <th>fullVisitorId</th>\n",
              "      <th>visitStartTime</th>\n",
              "      <th>date</th>\n",
              "      <th>deviceCategory</th>\n",
              "      <th>isMobile</th>\n",
              "      <th>operatingSystem</th>\n",
              "      <th>browser</th>\n",
              "      <th>country</th>\n",
              "      <th>city</th>\n",
              "      <th>trafficSource</th>\n",
              "      <th>trafficMedium</th>\n",
              "      <th>trafficCampaign</th>\n",
              "      <th>isFirstVisit</th>\n",
              "      <th>totalVisits</th>\n",
              "      <th>totalHits</th>\n",
              "      <th>totalPageviews</th>\n",
              "      <th>totalTimeOnSite</th>\n",
              "      <th>productPagesViewed</th>\n",
              "      <th>addedToCart</th>\n",
              "    </tr>\n",
              "  </thead>\n",
              "  <tbody>\n",
              "    <tr>\n",
              "      <th>0</th>\n",
              "      <td>271404407559213408.0</td>\n",
              "      <td>1486853631</td>\n",
              "      <td>2023-02-11</td>\n",
              "      <td>tablet</td>\n",
              "      <td>True</td>\n",
              "      <td>iOS</td>\n",
              "      <td>Chrome</td>\n",
              "      <td>United States</td>\n",
              "      <td>not available in demo dataset</td>\n",
              "      <td>dfa</td>\n",
              "      <td>cpm</td>\n",
              "      <td>(not set)</td>\n",
              "      <td>0</td>\n",
              "      <td>1</td>\n",
              "      <td>1</td>\n",
              "      <td>1</td>\n",
              "      <td>0</td>\n",
              "      <td>0</td>\n",
              "      <td>0</td>\n",
              "    </tr>\n",
              "    <tr>\n",
              "      <th>1</th>\n",
              "      <td>7357823685878908928.0</td>\n",
              "      <td>1479458674</td>\n",
              "      <td>2022-11-18</td>\n",
              "      <td>mobile</td>\n",
              "      <td>True</td>\n",
              "      <td>iOS</td>\n",
              "      <td>Safari</td>\n",
              "      <td>United States</td>\n",
              "      <td>Mountain View</td>\n",
              "      <td>dfa</td>\n",
              "      <td>cpm</td>\n",
              "      <td>(not set)</td>\n",
              "      <td>0</td>\n",
              "      <td>1</td>\n",
              "      <td>1</td>\n",
              "      <td>1</td>\n",
              "      <td>0</td>\n",
              "      <td>0</td>\n",
              "      <td>0</td>\n",
              "    </tr>\n",
              "    <tr>\n",
              "      <th>2</th>\n",
              "      <td>798533321440560384.0</td>\n",
              "      <td>1480021304</td>\n",
              "      <td>2022-11-24</td>\n",
              "      <td>mobile</td>\n",
              "      <td>True</td>\n",
              "      <td>iOS</td>\n",
              "      <td>Safari</td>\n",
              "      <td>United States</td>\n",
              "      <td>not available in demo dataset</td>\n",
              "      <td>dfa</td>\n",
              "      <td>cpm</td>\n",
              "      <td>(not set)</td>\n",
              "      <td>0</td>\n",
              "      <td>1</td>\n",
              "      <td>1</td>\n",
              "      <td>1</td>\n",
              "      <td>0</td>\n",
              "      <td>0</td>\n",
              "      <td>0</td>\n",
              "    </tr>\n",
              "    <tr>\n",
              "      <th>3</th>\n",
              "      <td>9138428854186547200.0</td>\n",
              "      <td>1480884549</td>\n",
              "      <td>2022-12-04</td>\n",
              "      <td>mobile</td>\n",
              "      <td>True</td>\n",
              "      <td>iOS</td>\n",
              "      <td>Safari</td>\n",
              "      <td>United States</td>\n",
              "      <td>not available in demo dataset</td>\n",
              "      <td>dfa</td>\n",
              "      <td>cpm</td>\n",
              "      <td>(not set)</td>\n",
              "      <td>0</td>\n",
              "      <td>1</td>\n",
              "      <td>1</td>\n",
              "      <td>1</td>\n",
              "      <td>0</td>\n",
              "      <td>0</td>\n",
              "      <td>0</td>\n",
              "    </tr>\n",
              "    <tr>\n",
              "      <th>4</th>\n",
              "      <td>4410119776419873792.0</td>\n",
              "      <td>1491796955</td>\n",
              "      <td>2023-04-09</td>\n",
              "      <td>mobile</td>\n",
              "      <td>True</td>\n",
              "      <td>iOS</td>\n",
              "      <td>Chrome</td>\n",
              "      <td>United States</td>\n",
              "      <td>Palo Alto</td>\n",
              "      <td>dfa</td>\n",
              "      <td>cpm</td>\n",
              "      <td>(not set)</td>\n",
              "      <td>0</td>\n",
              "      <td>1</td>\n",
              "      <td>1</td>\n",
              "      <td>1</td>\n",
              "      <td>0</td>\n",
              "      <td>0</td>\n",
              "      <td>0</td>\n",
              "    </tr>\n",
              "  </tbody>\n",
              "</table>\n",
              "</div>\n",
              "    <div class=\"colab-df-buttons\">\n",
              "\n",
              "  <div class=\"colab-df-container\">\n",
              "    <button class=\"colab-df-convert\" onclick=\"convertToInteractive('df-7533bfd2-0032-4923-bb5f-ab598926a04e')\"\n",
              "            title=\"Convert this dataframe to an interactive table.\"\n",
              "            style=\"display:none;\">\n",
              "\n",
              "  <svg xmlns=\"http://www.w3.org/2000/svg\" height=\"24px\" viewBox=\"0 -960 960 960\">\n",
              "    <path d=\"M120-120v-720h720v720H120Zm60-500h600v-160H180v160Zm220 220h160v-160H400v160Zm0 220h160v-160H400v160ZM180-400h160v-160H180v160Zm440 0h160v-160H620v160ZM180-180h160v-160H180v160Zm440 0h160v-160H620v160Z\"/>\n",
              "  </svg>\n",
              "    </button>\n",
              "\n",
              "  <style>\n",
              "    .colab-df-container {\n",
              "      display:flex;\n",
              "      gap: 12px;\n",
              "    }\n",
              "\n",
              "    .colab-df-convert {\n",
              "      background-color: #E8F0FE;\n",
              "      border: none;\n",
              "      border-radius: 50%;\n",
              "      cursor: pointer;\n",
              "      display: none;\n",
              "      fill: #1967D2;\n",
              "      height: 32px;\n",
              "      padding: 0 0 0 0;\n",
              "      width: 32px;\n",
              "    }\n",
              "\n",
              "    .colab-df-convert:hover {\n",
              "      background-color: #E2EBFA;\n",
              "      box-shadow: 0px 1px 2px rgba(60, 64, 67, 0.3), 0px 1px 3px 1px rgba(60, 64, 67, 0.15);\n",
              "      fill: #174EA6;\n",
              "    }\n",
              "\n",
              "    .colab-df-buttons div {\n",
              "      margin-bottom: 4px;\n",
              "    }\n",
              "\n",
              "    [theme=dark] .colab-df-convert {\n",
              "      background-color: #3B4455;\n",
              "      fill: #D2E3FC;\n",
              "    }\n",
              "\n",
              "    [theme=dark] .colab-df-convert:hover {\n",
              "      background-color: #434B5C;\n",
              "      box-shadow: 0px 1px 3px 1px rgba(0, 0, 0, 0.15);\n",
              "      filter: drop-shadow(0px 1px 2px rgba(0, 0, 0, 0.3));\n",
              "      fill: #FFFFFF;\n",
              "    }\n",
              "  </style>\n",
              "\n",
              "    <script>\n",
              "      const buttonEl =\n",
              "        document.querySelector('#df-7533bfd2-0032-4923-bb5f-ab598926a04e button.colab-df-convert');\n",
              "      buttonEl.style.display =\n",
              "        google.colab.kernel.accessAllowed ? 'block' : 'none';\n",
              "\n",
              "      async function convertToInteractive(key) {\n",
              "        const element = document.querySelector('#df-7533bfd2-0032-4923-bb5f-ab598926a04e');\n",
              "        const dataTable =\n",
              "          await google.colab.kernel.invokeFunction('convertToInteractive',\n",
              "                                                    [key], {});\n",
              "        if (!dataTable) return;\n",
              "\n",
              "        const docLinkHtml = 'Like what you see? Visit the ' +\n",
              "          '<a target=\"_blank\" href=https://colab.research.google.com/notebooks/data_table.ipynb>data table notebook</a>'\n",
              "          + ' to learn more about interactive tables.';\n",
              "        element.innerHTML = '';\n",
              "        dataTable['output_type'] = 'display_data';\n",
              "        await google.colab.output.renderOutput(dataTable, element);\n",
              "        const docLink = document.createElement('div');\n",
              "        docLink.innerHTML = docLinkHtml;\n",
              "        element.appendChild(docLink);\n",
              "      }\n",
              "    </script>\n",
              "  </div>\n",
              "\n",
              "\n",
              "<div id=\"df-4d226c2d-8b86-492b-a313-065c7abd2978\">\n",
              "  <button class=\"colab-df-quickchart\" onclick=\"quickchart('df-4d226c2d-8b86-492b-a313-065c7abd2978')\"\n",
              "            title=\"Suggest charts\"\n",
              "            style=\"display:none;\">\n",
              "\n",
              "<svg xmlns=\"http://www.w3.org/2000/svg\" height=\"24px\"viewBox=\"0 0 24 24\"\n",
              "     width=\"24px\">\n",
              "    <g>\n",
              "        <path d=\"M19 3H5c-1.1 0-2 .9-2 2v14c0 1.1.9 2 2 2h14c1.1 0 2-.9 2-2V5c0-1.1-.9-2-2-2zM9 17H7v-7h2v7zm4 0h-2V7h2v10zm4 0h-2v-4h2v4z\"/>\n",
              "    </g>\n",
              "</svg>\n",
              "  </button>\n",
              "\n",
              "<style>\n",
              "  .colab-df-quickchart {\n",
              "      --bg-color: #E8F0FE;\n",
              "      --fill-color: #1967D2;\n",
              "      --hover-bg-color: #E2EBFA;\n",
              "      --hover-fill-color: #174EA6;\n",
              "      --disabled-fill-color: #AAA;\n",
              "      --disabled-bg-color: #DDD;\n",
              "  }\n",
              "\n",
              "  [theme=dark] .colab-df-quickchart {\n",
              "      --bg-color: #3B4455;\n",
              "      --fill-color: #D2E3FC;\n",
              "      --hover-bg-color: #434B5C;\n",
              "      --hover-fill-color: #FFFFFF;\n",
              "      --disabled-bg-color: #3B4455;\n",
              "      --disabled-fill-color: #666;\n",
              "  }\n",
              "\n",
              "  .colab-df-quickchart {\n",
              "    background-color: var(--bg-color);\n",
              "    border: none;\n",
              "    border-radius: 50%;\n",
              "    cursor: pointer;\n",
              "    display: none;\n",
              "    fill: var(--fill-color);\n",
              "    height: 32px;\n",
              "    padding: 0;\n",
              "    width: 32px;\n",
              "  }\n",
              "\n",
              "  .colab-df-quickchart:hover {\n",
              "    background-color: var(--hover-bg-color);\n",
              "    box-shadow: 0 1px 2px rgba(60, 64, 67, 0.3), 0 1px 3px 1px rgba(60, 64, 67, 0.15);\n",
              "    fill: var(--button-hover-fill-color);\n",
              "  }\n",
              "\n",
              "  .colab-df-quickchart-complete:disabled,\n",
              "  .colab-df-quickchart-complete:disabled:hover {\n",
              "    background-color: var(--disabled-bg-color);\n",
              "    fill: var(--disabled-fill-color);\n",
              "    box-shadow: none;\n",
              "  }\n",
              "\n",
              "  .colab-df-spinner {\n",
              "    border: 2px solid var(--fill-color);\n",
              "    border-color: transparent;\n",
              "    border-bottom-color: var(--fill-color);\n",
              "    animation:\n",
              "      spin 1s steps(1) infinite;\n",
              "  }\n",
              "\n",
              "  @keyframes spin {\n",
              "    0% {\n",
              "      border-color: transparent;\n",
              "      border-bottom-color: var(--fill-color);\n",
              "      border-left-color: var(--fill-color);\n",
              "    }\n",
              "    20% {\n",
              "      border-color: transparent;\n",
              "      border-left-color: var(--fill-color);\n",
              "      border-top-color: var(--fill-color);\n",
              "    }\n",
              "    30% {\n",
              "      border-color: transparent;\n",
              "      border-left-color: var(--fill-color);\n",
              "      border-top-color: var(--fill-color);\n",
              "      border-right-color: var(--fill-color);\n",
              "    }\n",
              "    40% {\n",
              "      border-color: transparent;\n",
              "      border-right-color: var(--fill-color);\n",
              "      border-top-color: var(--fill-color);\n",
              "    }\n",
              "    60% {\n",
              "      border-color: transparent;\n",
              "      border-right-color: var(--fill-color);\n",
              "    }\n",
              "    80% {\n",
              "      border-color: transparent;\n",
              "      border-right-color: var(--fill-color);\n",
              "      border-bottom-color: var(--fill-color);\n",
              "    }\n",
              "    90% {\n",
              "      border-color: transparent;\n",
              "      border-bottom-color: var(--fill-color);\n",
              "    }\n",
              "  }\n",
              "</style>\n",
              "\n",
              "  <script>\n",
              "    async function quickchart(key) {\n",
              "      const quickchartButtonEl =\n",
              "        document.querySelector('#' + key + ' button');\n",
              "      quickchartButtonEl.disabled = true;  // To prevent multiple clicks.\n",
              "      quickchartButtonEl.classList.add('colab-df-spinner');\n",
              "      try {\n",
              "        const charts = await google.colab.kernel.invokeFunction(\n",
              "            'suggestCharts', [key], {});\n",
              "      } catch (error) {\n",
              "        console.error('Error during call to suggestCharts:', error);\n",
              "      }\n",
              "      quickchartButtonEl.classList.remove('colab-df-spinner');\n",
              "      quickchartButtonEl.classList.add('colab-df-quickchart-complete');\n",
              "    }\n",
              "    (() => {\n",
              "      let quickchartButtonEl =\n",
              "        document.querySelector('#df-4d226c2d-8b86-492b-a313-065c7abd2978 button');\n",
              "      quickchartButtonEl.style.display =\n",
              "        google.colab.kernel.accessAllowed ? 'block' : 'none';\n",
              "    })();\n",
              "  </script>\n",
              "</div>\n",
              "\n",
              "    </div>\n",
              "  </div>\n"
            ],
            "application/vnd.google.colaboratory.intrinsic+json": {
              "type": "dataframe",
              "variable_name": "data"
            }
          },
          "metadata": {},
          "execution_count": 31
        }
      ]
    },
    {
      "cell_type": "code",
      "source": [
        "data.tail()"
      ],
      "metadata": {
        "id": "cfmhJVklUAex",
        "colab": {
          "base_uri": "https://localhost:8080/",
          "height": 452
        },
        "outputId": "dde969f5-caa2-4ccc-ad1a-05a1917f33b5"
      },
      "execution_count": null,
      "outputs": [
        {
          "output_type": "execute_result",
          "data": {
            "text/plain": [
              "              fullVisitorId  visitStartTime        date deviceCategory  \\\n",
              "765702  4903244865428862983      1471399014  2022-08-16        desktop   \n",
              "765703  5584945563861944723      1471454008  2022-08-17        desktop   \n",
              "765704  4725577328776123367      1476752663  2022-10-17        desktop   \n",
              "765705  7558132299181088801      1480490313  2022-11-29         mobile   \n",
              "765706  4086679804074527652      1473179394  2022-09-06        desktop   \n",
              "\n",
              "        isMobile operatingSystem  browser        country  \\\n",
              "765702     False       Macintosh  Firefox  United States   \n",
              "765703     False         Windows   Chrome  United States   \n",
              "765704     False       Chrome OS   Chrome  United States   \n",
              "765705      True         Android   Chrome           Fiji   \n",
              "765706     False         Windows   Chrome       Malaysia   \n",
              "\n",
              "                                 city trafficSource trafficMedium  \\\n",
              "765702                      Sunnyvale      (direct)        (none)   \n",
              "765703  not available in demo dataset      (direct)        (none)   \n",
              "765704  not available in demo dataset      (direct)        (none)   \n",
              "765705  not available in demo dataset      (direct)        (none)   \n",
              "765706  not available in demo dataset        google       organic   \n",
              "\n",
              "       trafficCampaign  isFirstVisit  totalVisits  totalHits  totalPageviews  \\\n",
              "765702       (not set)             1            1        500             333   \n",
              "765703       (not set)             1            1        246             149   \n",
              "765704       (not set)             1            1        247             185   \n",
              "765705       (not set)             1            1        249             126   \n",
              "765706       (not set)             0            1        250             164   \n",
              "\n",
              "        totalTimeOnSite  productPagesViewed  addedToCart  \n",
              "765702             4421                  82            1  \n",
              "765703             4424                  73            1  \n",
              "765704             4038                  35            1  \n",
              "765705              738                 123            0  \n",
              "765706             3953                  78            1  "
            ],
            "text/html": [
              "\n",
              "  <div id=\"df-51a3fdc1-ea35-4b92-8273-e7b6532a0177\" class=\"colab-df-container\">\n",
              "    <div>\n",
              "<style scoped>\n",
              "    .dataframe tbody tr th:only-of-type {\n",
              "        vertical-align: middle;\n",
              "    }\n",
              "\n",
              "    .dataframe tbody tr th {\n",
              "        vertical-align: top;\n",
              "    }\n",
              "\n",
              "    .dataframe thead th {\n",
              "        text-align: right;\n",
              "    }\n",
              "</style>\n",
              "<table border=\"1\" class=\"dataframe\">\n",
              "  <thead>\n",
              "    <tr style=\"text-align: right;\">\n",
              "      <th></th>\n",
              "      <th>fullVisitorId</th>\n",
              "      <th>visitStartTime</th>\n",
              "      <th>date</th>\n",
              "      <th>deviceCategory</th>\n",
              "      <th>isMobile</th>\n",
              "      <th>operatingSystem</th>\n",
              "      <th>browser</th>\n",
              "      <th>country</th>\n",
              "      <th>city</th>\n",
              "      <th>trafficSource</th>\n",
              "      <th>trafficMedium</th>\n",
              "      <th>trafficCampaign</th>\n",
              "      <th>isFirstVisit</th>\n",
              "      <th>totalVisits</th>\n",
              "      <th>totalHits</th>\n",
              "      <th>totalPageviews</th>\n",
              "      <th>totalTimeOnSite</th>\n",
              "      <th>productPagesViewed</th>\n",
              "      <th>addedToCart</th>\n",
              "    </tr>\n",
              "  </thead>\n",
              "  <tbody>\n",
              "    <tr>\n",
              "      <th>765702</th>\n",
              "      <td>4903244865428862983</td>\n",
              "      <td>1471399014</td>\n",
              "      <td>2022-08-16</td>\n",
              "      <td>desktop</td>\n",
              "      <td>False</td>\n",
              "      <td>Macintosh</td>\n",
              "      <td>Firefox</td>\n",
              "      <td>United States</td>\n",
              "      <td>Sunnyvale</td>\n",
              "      <td>(direct)</td>\n",
              "      <td>(none)</td>\n",
              "      <td>(not set)</td>\n",
              "      <td>1</td>\n",
              "      <td>1</td>\n",
              "      <td>500</td>\n",
              "      <td>333</td>\n",
              "      <td>4421</td>\n",
              "      <td>82</td>\n",
              "      <td>1</td>\n",
              "    </tr>\n",
              "    <tr>\n",
              "      <th>765703</th>\n",
              "      <td>5584945563861944723</td>\n",
              "      <td>1471454008</td>\n",
              "      <td>2022-08-17</td>\n",
              "      <td>desktop</td>\n",
              "      <td>False</td>\n",
              "      <td>Windows</td>\n",
              "      <td>Chrome</td>\n",
              "      <td>United States</td>\n",
              "      <td>not available in demo dataset</td>\n",
              "      <td>(direct)</td>\n",
              "      <td>(none)</td>\n",
              "      <td>(not set)</td>\n",
              "      <td>1</td>\n",
              "      <td>1</td>\n",
              "      <td>246</td>\n",
              "      <td>149</td>\n",
              "      <td>4424</td>\n",
              "      <td>73</td>\n",
              "      <td>1</td>\n",
              "    </tr>\n",
              "    <tr>\n",
              "      <th>765704</th>\n",
              "      <td>4725577328776123367</td>\n",
              "      <td>1476752663</td>\n",
              "      <td>2022-10-17</td>\n",
              "      <td>desktop</td>\n",
              "      <td>False</td>\n",
              "      <td>Chrome OS</td>\n",
              "      <td>Chrome</td>\n",
              "      <td>United States</td>\n",
              "      <td>not available in demo dataset</td>\n",
              "      <td>(direct)</td>\n",
              "      <td>(none)</td>\n",
              "      <td>(not set)</td>\n",
              "      <td>1</td>\n",
              "      <td>1</td>\n",
              "      <td>247</td>\n",
              "      <td>185</td>\n",
              "      <td>4038</td>\n",
              "      <td>35</td>\n",
              "      <td>1</td>\n",
              "    </tr>\n",
              "    <tr>\n",
              "      <th>765705</th>\n",
              "      <td>7558132299181088801</td>\n",
              "      <td>1480490313</td>\n",
              "      <td>2022-11-29</td>\n",
              "      <td>mobile</td>\n",
              "      <td>True</td>\n",
              "      <td>Android</td>\n",
              "      <td>Chrome</td>\n",
              "      <td>Fiji</td>\n",
              "      <td>not available in demo dataset</td>\n",
              "      <td>(direct)</td>\n",
              "      <td>(none)</td>\n",
              "      <td>(not set)</td>\n",
              "      <td>1</td>\n",
              "      <td>1</td>\n",
              "      <td>249</td>\n",
              "      <td>126</td>\n",
              "      <td>738</td>\n",
              "      <td>123</td>\n",
              "      <td>0</td>\n",
              "    </tr>\n",
              "    <tr>\n",
              "      <th>765706</th>\n",
              "      <td>4086679804074527652</td>\n",
              "      <td>1473179394</td>\n",
              "      <td>2022-09-06</td>\n",
              "      <td>desktop</td>\n",
              "      <td>False</td>\n",
              "      <td>Windows</td>\n",
              "      <td>Chrome</td>\n",
              "      <td>Malaysia</td>\n",
              "      <td>not available in demo dataset</td>\n",
              "      <td>google</td>\n",
              "      <td>organic</td>\n",
              "      <td>(not set)</td>\n",
              "      <td>0</td>\n",
              "      <td>1</td>\n",
              "      <td>250</td>\n",
              "      <td>164</td>\n",
              "      <td>3953</td>\n",
              "      <td>78</td>\n",
              "      <td>1</td>\n",
              "    </tr>\n",
              "  </tbody>\n",
              "</table>\n",
              "</div>\n",
              "    <div class=\"colab-df-buttons\">\n",
              "\n",
              "  <div class=\"colab-df-container\">\n",
              "    <button class=\"colab-df-convert\" onclick=\"convertToInteractive('df-51a3fdc1-ea35-4b92-8273-e7b6532a0177')\"\n",
              "            title=\"Convert this dataframe to an interactive table.\"\n",
              "            style=\"display:none;\">\n",
              "\n",
              "  <svg xmlns=\"http://www.w3.org/2000/svg\" height=\"24px\" viewBox=\"0 -960 960 960\">\n",
              "    <path d=\"M120-120v-720h720v720H120Zm60-500h600v-160H180v160Zm220 220h160v-160H400v160Zm0 220h160v-160H400v160ZM180-400h160v-160H180v160Zm440 0h160v-160H620v160ZM180-180h160v-160H180v160Zm440 0h160v-160H620v160Z\"/>\n",
              "  </svg>\n",
              "    </button>\n",
              "\n",
              "  <style>\n",
              "    .colab-df-container {\n",
              "      display:flex;\n",
              "      gap: 12px;\n",
              "    }\n",
              "\n",
              "    .colab-df-convert {\n",
              "      background-color: #E8F0FE;\n",
              "      border: none;\n",
              "      border-radius: 50%;\n",
              "      cursor: pointer;\n",
              "      display: none;\n",
              "      fill: #1967D2;\n",
              "      height: 32px;\n",
              "      padding: 0 0 0 0;\n",
              "      width: 32px;\n",
              "    }\n",
              "\n",
              "    .colab-df-convert:hover {\n",
              "      background-color: #E2EBFA;\n",
              "      box-shadow: 0px 1px 2px rgba(60, 64, 67, 0.3), 0px 1px 3px 1px rgba(60, 64, 67, 0.15);\n",
              "      fill: #174EA6;\n",
              "    }\n",
              "\n",
              "    .colab-df-buttons div {\n",
              "      margin-bottom: 4px;\n",
              "    }\n",
              "\n",
              "    [theme=dark] .colab-df-convert {\n",
              "      background-color: #3B4455;\n",
              "      fill: #D2E3FC;\n",
              "    }\n",
              "\n",
              "    [theme=dark] .colab-df-convert:hover {\n",
              "      background-color: #434B5C;\n",
              "      box-shadow: 0px 1px 3px 1px rgba(0, 0, 0, 0.15);\n",
              "      filter: drop-shadow(0px 1px 2px rgba(0, 0, 0, 0.3));\n",
              "      fill: #FFFFFF;\n",
              "    }\n",
              "  </style>\n",
              "\n",
              "    <script>\n",
              "      const buttonEl =\n",
              "        document.querySelector('#df-51a3fdc1-ea35-4b92-8273-e7b6532a0177 button.colab-df-convert');\n",
              "      buttonEl.style.display =\n",
              "        google.colab.kernel.accessAllowed ? 'block' : 'none';\n",
              "\n",
              "      async function convertToInteractive(key) {\n",
              "        const element = document.querySelector('#df-51a3fdc1-ea35-4b92-8273-e7b6532a0177');\n",
              "        const dataTable =\n",
              "          await google.colab.kernel.invokeFunction('convertToInteractive',\n",
              "                                                    [key], {});\n",
              "        if (!dataTable) return;\n",
              "\n",
              "        const docLinkHtml = 'Like what you see? Visit the ' +\n",
              "          '<a target=\"_blank\" href=https://colab.research.google.com/notebooks/data_table.ipynb>data table notebook</a>'\n",
              "          + ' to learn more about interactive tables.';\n",
              "        element.innerHTML = '';\n",
              "        dataTable['output_type'] = 'display_data';\n",
              "        await google.colab.output.renderOutput(dataTable, element);\n",
              "        const docLink = document.createElement('div');\n",
              "        docLink.innerHTML = docLinkHtml;\n",
              "        element.appendChild(docLink);\n",
              "      }\n",
              "    </script>\n",
              "  </div>\n",
              "\n",
              "\n",
              "<div id=\"df-46f128b4-2e4c-40e1-bbf1-00428b5c9376\">\n",
              "  <button class=\"colab-df-quickchart\" onclick=\"quickchart('df-46f128b4-2e4c-40e1-bbf1-00428b5c9376')\"\n",
              "            title=\"Suggest charts\"\n",
              "            style=\"display:none;\">\n",
              "\n",
              "<svg xmlns=\"http://www.w3.org/2000/svg\" height=\"24px\"viewBox=\"0 0 24 24\"\n",
              "     width=\"24px\">\n",
              "    <g>\n",
              "        <path d=\"M19 3H5c-1.1 0-2 .9-2 2v14c0 1.1.9 2 2 2h14c1.1 0 2-.9 2-2V5c0-1.1-.9-2-2-2zM9 17H7v-7h2v7zm4 0h-2V7h2v10zm4 0h-2v-4h2v4z\"/>\n",
              "    </g>\n",
              "</svg>\n",
              "  </button>\n",
              "\n",
              "<style>\n",
              "  .colab-df-quickchart {\n",
              "      --bg-color: #E8F0FE;\n",
              "      --fill-color: #1967D2;\n",
              "      --hover-bg-color: #E2EBFA;\n",
              "      --hover-fill-color: #174EA6;\n",
              "      --disabled-fill-color: #AAA;\n",
              "      --disabled-bg-color: #DDD;\n",
              "  }\n",
              "\n",
              "  [theme=dark] .colab-df-quickchart {\n",
              "      --bg-color: #3B4455;\n",
              "      --fill-color: #D2E3FC;\n",
              "      --hover-bg-color: #434B5C;\n",
              "      --hover-fill-color: #FFFFFF;\n",
              "      --disabled-bg-color: #3B4455;\n",
              "      --disabled-fill-color: #666;\n",
              "  }\n",
              "\n",
              "  .colab-df-quickchart {\n",
              "    background-color: var(--bg-color);\n",
              "    border: none;\n",
              "    border-radius: 50%;\n",
              "    cursor: pointer;\n",
              "    display: none;\n",
              "    fill: var(--fill-color);\n",
              "    height: 32px;\n",
              "    padding: 0;\n",
              "    width: 32px;\n",
              "  }\n",
              "\n",
              "  .colab-df-quickchart:hover {\n",
              "    background-color: var(--hover-bg-color);\n",
              "    box-shadow: 0 1px 2px rgba(60, 64, 67, 0.3), 0 1px 3px 1px rgba(60, 64, 67, 0.15);\n",
              "    fill: var(--button-hover-fill-color);\n",
              "  }\n",
              "\n",
              "  .colab-df-quickchart-complete:disabled,\n",
              "  .colab-df-quickchart-complete:disabled:hover {\n",
              "    background-color: var(--disabled-bg-color);\n",
              "    fill: var(--disabled-fill-color);\n",
              "    box-shadow: none;\n",
              "  }\n",
              "\n",
              "  .colab-df-spinner {\n",
              "    border: 2px solid var(--fill-color);\n",
              "    border-color: transparent;\n",
              "    border-bottom-color: var(--fill-color);\n",
              "    animation:\n",
              "      spin 1s steps(1) infinite;\n",
              "  }\n",
              "\n",
              "  @keyframes spin {\n",
              "    0% {\n",
              "      border-color: transparent;\n",
              "      border-bottom-color: var(--fill-color);\n",
              "      border-left-color: var(--fill-color);\n",
              "    }\n",
              "    20% {\n",
              "      border-color: transparent;\n",
              "      border-left-color: var(--fill-color);\n",
              "      border-top-color: var(--fill-color);\n",
              "    }\n",
              "    30% {\n",
              "      border-color: transparent;\n",
              "      border-left-color: var(--fill-color);\n",
              "      border-top-color: var(--fill-color);\n",
              "      border-right-color: var(--fill-color);\n",
              "    }\n",
              "    40% {\n",
              "      border-color: transparent;\n",
              "      border-right-color: var(--fill-color);\n",
              "      border-top-color: var(--fill-color);\n",
              "    }\n",
              "    60% {\n",
              "      border-color: transparent;\n",
              "      border-right-color: var(--fill-color);\n",
              "    }\n",
              "    80% {\n",
              "      border-color: transparent;\n",
              "      border-right-color: var(--fill-color);\n",
              "      border-bottom-color: var(--fill-color);\n",
              "    }\n",
              "    90% {\n",
              "      border-color: transparent;\n",
              "      border-bottom-color: var(--fill-color);\n",
              "    }\n",
              "  }\n",
              "</style>\n",
              "\n",
              "  <script>\n",
              "    async function quickchart(key) {\n",
              "      const quickchartButtonEl =\n",
              "        document.querySelector('#' + key + ' button');\n",
              "      quickchartButtonEl.disabled = true;  // To prevent multiple clicks.\n",
              "      quickchartButtonEl.classList.add('colab-df-spinner');\n",
              "      try {\n",
              "        const charts = await google.colab.kernel.invokeFunction(\n",
              "            'suggestCharts', [key], {});\n",
              "      } catch (error) {\n",
              "        console.error('Error during call to suggestCharts:', error);\n",
              "      }\n",
              "      quickchartButtonEl.classList.remove('colab-df-spinner');\n",
              "      quickchartButtonEl.classList.add('colab-df-quickchart-complete');\n",
              "    }\n",
              "    (() => {\n",
              "      let quickchartButtonEl =\n",
              "        document.querySelector('#df-46f128b4-2e4c-40e1-bbf1-00428b5c9376 button');\n",
              "      quickchartButtonEl.style.display =\n",
              "        google.colab.kernel.accessAllowed ? 'block' : 'none';\n",
              "    })();\n",
              "  </script>\n",
              "</div>\n",
              "\n",
              "    </div>\n",
              "  </div>\n"
            ],
            "application/vnd.google.colaboratory.intrinsic+json": {
              "type": "dataframe",
              "repr_error": "0"
            }
          },
          "metadata": {},
          "execution_count": 32
        }
      ]
    },
    {
      "cell_type": "code",
      "source": [
        "data.apply(lambda x: sum(x.isnull()),axis=0)"
      ],
      "metadata": {
        "id": "TX8u64TGZYsT",
        "colab": {
          "base_uri": "https://localhost:8080/"
        },
        "outputId": "ba530b92-d1bc-4b11-d76e-d8df4a6bc323"
      },
      "execution_count": null,
      "outputs": [
        {
          "output_type": "execute_result",
          "data": {
            "text/plain": [
              "fullVisitorId         0\n",
              "visitStartTime        0\n",
              "date                  0\n",
              "deviceCategory        0\n",
              "isMobile              0\n",
              "operatingSystem       0\n",
              "browser               0\n",
              "country               0\n",
              "city                  0\n",
              "trafficSource         0\n",
              "trafficMedium         0\n",
              "trafficCampaign       0\n",
              "isFirstVisit          0\n",
              "totalVisits           0\n",
              "totalHits             0\n",
              "totalPageviews        0\n",
              "totalTimeOnSite       0\n",
              "productPagesViewed    0\n",
              "addedToCart           0\n",
              "dtype: int64"
            ]
          },
          "metadata": {},
          "execution_count": 33
        }
      ]
    },
    {
      "cell_type": "code",
      "source": [
        "for col in data.select_dtypes(include=['object']).columns:\n",
        "    print(f'Summary for {col}:')\n",
        "    print(data[col].value_counts())\n",
        "    print()"
      ],
      "metadata": {
        "collapsed": true,
        "id": "GtmGdxK2VXTM",
        "colab": {
          "base_uri": "https://localhost:8080/"
        },
        "outputId": "85714bc6-a8f7-473c-9f2b-cb617b463824"
      },
      "execution_count": null,
      "outputs": [
        {
          "output_type": "stream",
          "name": "stdout",
          "text": [
            "Summary for fullVisitorId:\n",
            "fullVisitorId\n",
            "8.248397e+17    219\n",
            "1.957459e+18    211\n",
            "3.608475e+18    200\n",
            "1.856749e+18    181\n",
            "7.634897e+18    140\n",
            "               ... \n",
            "8.089141e+18      1\n",
            "5.528325e+18      1\n",
            "8.833223e+18      1\n",
            "7.791714e+18      1\n",
            "5.852665e+18      1\n",
            "Name: count, Length: 625642, dtype: int64\n",
            "\n",
            "Summary for date:\n",
            "date\n",
            "2022-11-28    4807\n",
            "2022-11-15    4685\n",
            "2022-11-14    4466\n",
            "2022-11-30    4435\n",
            "2022-10-26    4375\n",
            "              ... \n",
            "2023-05-14    1290\n",
            "2023-05-13    1251\n",
            "2022-12-30    1232\n",
            "2022-12-24    1231\n",
            "2022-12-31    1211\n",
            "Name: count, Length: 304, dtype: int64\n",
            "\n",
            "Summary for deviceCategory:\n",
            "deviceCategory\n",
            "desktop    575126\n",
            "mobile     165948\n",
            "tablet      24633\n",
            "Name: count, dtype: int64\n",
            "\n",
            "Summary for operatingSystem:\n",
            "operatingSystem\n",
            "Windows          302872\n",
            "Macintosh        222526\n",
            "Android           99907\n",
            "iOS               84194\n",
            "Linux             29053\n",
            "Chrome OS         21500\n",
            "(not set)          3858\n",
            "Windows Phone      1103\n",
            "Samsung             214\n",
            "BlackBerry          190\n",
            "Nintendo Wii        100\n",
            "Firefox OS           88\n",
            "Xbox                 57\n",
            "Nintendo WiiU        30\n",
            "FreeBSD               8\n",
            "Nokia                 2\n",
            "OpenBSD               2\n",
            "Nintendo 3DS          1\n",
            "SunOS                 1\n",
            "NTT DoCoMo            1\n",
            "Name: count, dtype: int64\n",
            "\n",
            "Summary for browser:\n",
            "browser\n",
            "Chrome                        522729\n",
            "Safari                        157069\n",
            "Firefox                        31593\n",
            "Internet Explorer              16683\n",
            "Edge                            8393\n",
            "Android Webview                 6353\n",
            "Safari (in-app)                 5938\n",
            "Opera                           5070\n",
            "Opera Mini                      5008\n",
            "YaBrowser                       1991\n",
            "UC Browser                      1920\n",
            "Coc Coc                          643\n",
            "Amazon Silk                      485\n",
            "Android Browser                  482\n",
            "Mozilla Compatible Agent         311\n",
            "MRCHROME                         255\n",
            "Maxthon                          207\n",
            "BlackBerry                       165\n",
            "Nintendo Browser                 135\n",
            "Puffin                            77\n",
            "Nokia Browser                     60\n",
            "Iron                              30\n",
            "LYF_LS_4002_12                    21\n",
            "SeaMonkey                         13\n",
            "Seznam                            10\n",
            "Mozilla                            9\n",
            "Nichrome                           7\n",
            "(not set)                          6\n",
            "Lunascape                          5\n",
            "osee2unifiedRelease                4\n",
            "Apple-iPhone7C2                    4\n",
            "DASH_JR_3G                         4\n",
            "LYF_LS_4002_11                     3\n",
            "ThumbSniper                        3\n",
            "no-ua                              3\n",
            "NokiaE52-1                         2\n",
            "MQQBrowser                         2\n",
            "YE                                 2\n",
            "Konqueror                          1\n",
            "TCL P500M                          1\n",
            "Hisense M20-M_LTE                  1\n",
            "M5                                 1\n",
            "Android Runtime                    1\n",
            "subjectAgent: NoticiasBoom         1\n",
            "User Agent                         1\n",
            "CSM Click                          1\n",
            "Reddit                             1\n",
            "HTC802t_TD                         1\n",
            "ADM                                1\n",
            "DoCoMo                             1\n",
            "Name: count, dtype: int64\n",
            "\n",
            "Summary for country:\n",
            "country\n",
            "United States          300429\n",
            "India                   41847\n",
            "United Kingdom          30207\n",
            "Vietnam                 23893\n",
            "Canada                  21314\n",
            "                        ...  \n",
            "Norfolk Island              1\n",
            "St. Martin                  1\n",
            "São Tomé & Príncipe         1\n",
            "Congo - Brazzaville         1\n",
            "Anguilla                    1\n",
            "Name: count, Length: 218, dtype: int64\n",
            "\n",
            "Summary for city:\n",
            "city\n",
            "not available in demo dataset    431385\n",
            "Mountain View                     33820\n",
            "(not set)                         29096\n",
            "New York                          21911\n",
            "San Francisco                     16708\n",
            "                                  ...  \n",
            "Campbell                              5\n",
            "Deep River                            5\n",
            "Daly City                             4\n",
            "Boise                                 3\n",
            "Bozeman                               3\n",
            "Name: count, Length: 618, dtype: int64\n",
            "\n",
            "Summary for trafficSource:\n",
            "trafficSource\n",
            "(direct)                 311921\n",
            "youtube.com              204233\n",
            "google                   184922\n",
            "Partners                  13258\n",
            "analytics.google.com      12392\n",
            "                          ...  \n",
            "google.com.ar                 1\n",
            "images.google.co.in           1\n",
            "digg.com                      1\n",
            "web.whatsapp.com              1\n",
            "tweetdeck.twitter.com         1\n",
            "Name: count, Length: 258, dtype: int64\n",
            "\n",
            "Summary for trafficMedium:\n",
            "trafficMedium\n",
            "(none)       311920\n",
            "referral     244579\n",
            "organic      181006\n",
            "affiliate     13250\n",
            "cpc            9645\n",
            "cpm            5191\n",
            "(not set)       116\n",
            "Name: count, dtype: int64\n",
            "\n",
            "Summary for trafficCampaign:\n",
            "trafficCampaign\n",
            "(not set)                             744080\n",
            "Data Share Promo                       13250\n",
            "AW - Dynamic Search Ads Whole Site      4570\n",
            "AW - Accessories                        3713\n",
            "AW - Electronics                          73\n",
            "AW - Apparel                              16\n",
            "All Products                               4\n",
            "Data Share                                 1\n",
            "Name: count, dtype: int64\n",
            "\n"
          ]
        }
      ]
    },
    {
      "cell_type": "code",
      "source": [
        "data.groupby('trafficSource').size()"
      ],
      "metadata": {
        "id": "b2_s6ApcepAK",
        "colab": {
          "base_uri": "https://localhost:8080/"
        },
        "outputId": "16a91537-7d51-4353-a1a1-4e20255ec63a"
      },
      "execution_count": null,
      "outputs": [
        {
          "output_type": "execute_result",
          "data": {
            "text/plain": [
              "trafficSource\n",
              "(direct)              311921\n",
              "(not set)                 69\n",
              "9to5google.com             2\n",
              "Partners               13258\n",
              "ad.doubleclick.net         3\n",
              "                       ...  \n",
              "wheretoget.it             13\n",
              "yahoo                   1272\n",
              "yahoo.com                  1\n",
              "yandex                     3\n",
              "youtube.com           204233\n",
              "Length: 258, dtype: int64"
            ]
          },
          "metadata": {},
          "execution_count": 35
        }
      ]
    },
    {
      "cell_type": "code",
      "source": [
        "data.groupby('trafficMedium').size()"
      ],
      "metadata": {
        "id": "7wYCwvFMespc",
        "colab": {
          "base_uri": "https://localhost:8080/"
        },
        "outputId": "06fd6860-7110-4694-9c6c-f2d0d95d72b3"
      },
      "execution_count": null,
      "outputs": [
        {
          "output_type": "execute_result",
          "data": {
            "text/plain": [
              "trafficMedium\n",
              "(none)       311920\n",
              "(not set)       116\n",
              "affiliate     13250\n",
              "cpc            9645\n",
              "cpm            5191\n",
              "organic      181006\n",
              "referral     244579\n",
              "dtype: int64"
            ]
          },
          "metadata": {},
          "execution_count": 36
        }
      ]
    },
    {
      "cell_type": "markdown",
      "source": [
        "**Data Pre-Processing**"
      ],
      "metadata": {
        "id": "gY2isypbeM0D"
      }
    },
    {
      "cell_type": "code",
      "source": [
        "data['fullVisitorId_transformed'] = data['fullVisitorId'].apply(number_to_uuid) # To change the visitorID to unique ID\n",
        "data['visitStartTime'] = pd.to_datetime(data['visitStartTime'], unit='s') # To change the posix time into datetime\n",
        "data['trafficSource'] = data['trafficSource'].apply(clean_key) # To remove special characters,.com,space\n",
        "data['trafficMedium'] = data['trafficMedium'].apply(clean_key) # To remove special characters,.com,space"
      ],
      "metadata": {
        "id": "kPlCuGC-IBT-"
      },
      "execution_count": null,
      "outputs": []
    },
    {
      "cell_type": "code",
      "source": [
        "data_curated = data.drop(columns=['fullVisitorId','visitStartTime','isMobile','browser','city','trafficCampaign','totalVisits'])\n",
        "\n",
        "print(data_curated.info())"
      ],
      "metadata": {
        "id": "PwjBE1TjHoZe",
        "colab": {
          "base_uri": "https://localhost:8080/"
        },
        "outputId": "cad7950c-ccc5-4549-f522-05268f5a7ad4"
      },
      "execution_count": null,
      "outputs": [
        {
          "output_type": "stream",
          "name": "stdout",
          "text": [
            "<class 'pandas.core.frame.DataFrame'>\n",
            "RangeIndex: 765707 entries, 0 to 765706\n",
            "Data columns (total 13 columns):\n",
            " #   Column                     Non-Null Count   Dtype \n",
            "---  ------                     --------------   ----- \n",
            " 0   date                       765707 non-null  object\n",
            " 1   deviceCategory             765707 non-null  object\n",
            " 2   operatingSystem            765707 non-null  object\n",
            " 3   country                    765707 non-null  object\n",
            " 4   trafficSource              765707 non-null  object\n",
            " 5   trafficMedium              765707 non-null  object\n",
            " 6   isFirstVisit               765707 non-null  int64 \n",
            " 7   totalHits                  765707 non-null  int64 \n",
            " 8   totalPageviews             765707 non-null  int64 \n",
            " 9   totalTimeOnSite            765707 non-null  int64 \n",
            " 10  productPagesViewed         765707 non-null  int64 \n",
            " 11  addedToCart                765707 non-null  int64 \n",
            " 12  fullVisitorId_transformed  765707 non-null  object\n",
            "dtypes: int64(6), object(7)\n",
            "memory usage: 75.9+ MB\n",
            "None\n"
          ]
        }
      ]
    },
    {
      "cell_type": "code",
      "source": [
        "data_curated['date'] = pd.to_datetime(data['date'],errors='coerce') # To change the posix time into datetime\n",
        "#data_curated['date'] = data_curated['date'].astype(int) / 10**9  # Convert nanoseconds to seconds\n"
      ],
      "metadata": {
        "id": "tbabn8ZNmIyl"
      },
      "execution_count": null,
      "outputs": []
    },
    {
      "cell_type": "code",
      "source": [
        "print(data_curated.info())"
      ],
      "metadata": {
        "id": "ZUdvTS5Cm28e",
        "colab": {
          "base_uri": "https://localhost:8080/"
        },
        "outputId": "96bb2704-b2a6-4d4a-874c-50ed7c0b23a4"
      },
      "execution_count": null,
      "outputs": [
        {
          "output_type": "stream",
          "name": "stdout",
          "text": [
            "<class 'pandas.core.frame.DataFrame'>\n",
            "RangeIndex: 765707 entries, 0 to 765706\n",
            "Data columns (total 13 columns):\n",
            " #   Column                     Non-Null Count   Dtype         \n",
            "---  ------                     --------------   -----         \n",
            " 0   date                       765707 non-null  datetime64[ns]\n",
            " 1   deviceCategory             765707 non-null  object        \n",
            " 2   operatingSystem            765707 non-null  object        \n",
            " 3   country                    765707 non-null  object        \n",
            " 4   trafficSource              765707 non-null  object        \n",
            " 5   trafficMedium              765707 non-null  object        \n",
            " 6   isFirstVisit               765707 non-null  int64         \n",
            " 7   totalHits                  765707 non-null  int64         \n",
            " 8   totalPageviews             765707 non-null  int64         \n",
            " 9   totalTimeOnSite            765707 non-null  int64         \n",
            " 10  productPagesViewed         765707 non-null  int64         \n",
            " 11  addedToCart                765707 non-null  int64         \n",
            " 12  fullVisitorId_transformed  765707 non-null  object        \n",
            "dtypes: datetime64[ns](1), int64(6), object(6)\n",
            "memory usage: 75.9+ MB\n",
            "None\n"
          ]
        }
      ]
    },
    {
      "cell_type": "code",
      "source": [
        "data_curated.head()"
      ],
      "metadata": {
        "colab": {
          "base_uri": "https://localhost:8080/",
          "height": 313
        },
        "id": "jrY1y_c_fteO",
        "outputId": "2b4984f6-5a42-4295-e84c-6d036ab5c4ae"
      },
      "execution_count": null,
      "outputs": [
        {
          "output_type": "execute_result",
          "data": {
            "text/plain": [
              "        date deviceCategory operatingSystem        country trafficSource  \\\n",
              "0 2023-02-11         tablet             iOS  United States           dfa   \n",
              "1 2022-11-18         mobile             iOS  United States           dfa   \n",
              "2 2022-11-24         mobile             iOS  United States           dfa   \n",
              "3 2022-12-04         mobile             iOS  United States           dfa   \n",
              "4 2023-04-09         mobile             iOS  United States           dfa   \n",
              "\n",
              "  trafficMedium  isFirstVisit  totalHits  totalPageviews  totalTimeOnSite  \\\n",
              "0           cpm             0          1               1                0   \n",
              "1           cpm             0          1               1                0   \n",
              "2           cpm             0          1               1                0   \n",
              "3           cpm             0          1               1                0   \n",
              "4           cpm             0          1               1                0   \n",
              "\n",
              "   productPagesViewed  addedToCart             fullVisitorId_transformed  \n",
              "0                   0            0  64ce5e3f-c923-5241-863c-256e120b0267  \n",
              "1                   0            0  747e25b5-a80a-5b72-ab37-2e25a1c1a7bb  \n",
              "2                   0            0  6f3b20ab-1221-574e-80ff-c6bd87dbae5b  \n",
              "3                   0            0  08277271-e006-5f32-a01d-f79afbe73f45  \n",
              "4                   0            0  f830d8b5-eb28-53b4-8238-59f636bf1d2c  "
            ],
            "text/html": [
              "\n",
              "  <div id=\"df-21a9c921-fbe4-408f-ad32-e61e9546c839\" class=\"colab-df-container\">\n",
              "    <div>\n",
              "<style scoped>\n",
              "    .dataframe tbody tr th:only-of-type {\n",
              "        vertical-align: middle;\n",
              "    }\n",
              "\n",
              "    .dataframe tbody tr th {\n",
              "        vertical-align: top;\n",
              "    }\n",
              "\n",
              "    .dataframe thead th {\n",
              "        text-align: right;\n",
              "    }\n",
              "</style>\n",
              "<table border=\"1\" class=\"dataframe\">\n",
              "  <thead>\n",
              "    <tr style=\"text-align: right;\">\n",
              "      <th></th>\n",
              "      <th>date</th>\n",
              "      <th>deviceCategory</th>\n",
              "      <th>operatingSystem</th>\n",
              "      <th>country</th>\n",
              "      <th>trafficSource</th>\n",
              "      <th>trafficMedium</th>\n",
              "      <th>isFirstVisit</th>\n",
              "      <th>totalHits</th>\n",
              "      <th>totalPageviews</th>\n",
              "      <th>totalTimeOnSite</th>\n",
              "      <th>productPagesViewed</th>\n",
              "      <th>addedToCart</th>\n",
              "      <th>fullVisitorId_transformed</th>\n",
              "    </tr>\n",
              "  </thead>\n",
              "  <tbody>\n",
              "    <tr>\n",
              "      <th>0</th>\n",
              "      <td>2023-02-11</td>\n",
              "      <td>tablet</td>\n",
              "      <td>iOS</td>\n",
              "      <td>United States</td>\n",
              "      <td>dfa</td>\n",
              "      <td>cpm</td>\n",
              "      <td>0</td>\n",
              "      <td>1</td>\n",
              "      <td>1</td>\n",
              "      <td>0</td>\n",
              "      <td>0</td>\n",
              "      <td>0</td>\n",
              "      <td>64ce5e3f-c923-5241-863c-256e120b0267</td>\n",
              "    </tr>\n",
              "    <tr>\n",
              "      <th>1</th>\n",
              "      <td>2022-11-18</td>\n",
              "      <td>mobile</td>\n",
              "      <td>iOS</td>\n",
              "      <td>United States</td>\n",
              "      <td>dfa</td>\n",
              "      <td>cpm</td>\n",
              "      <td>0</td>\n",
              "      <td>1</td>\n",
              "      <td>1</td>\n",
              "      <td>0</td>\n",
              "      <td>0</td>\n",
              "      <td>0</td>\n",
              "      <td>747e25b5-a80a-5b72-ab37-2e25a1c1a7bb</td>\n",
              "    </tr>\n",
              "    <tr>\n",
              "      <th>2</th>\n",
              "      <td>2022-11-24</td>\n",
              "      <td>mobile</td>\n",
              "      <td>iOS</td>\n",
              "      <td>United States</td>\n",
              "      <td>dfa</td>\n",
              "      <td>cpm</td>\n",
              "      <td>0</td>\n",
              "      <td>1</td>\n",
              "      <td>1</td>\n",
              "      <td>0</td>\n",
              "      <td>0</td>\n",
              "      <td>0</td>\n",
              "      <td>6f3b20ab-1221-574e-80ff-c6bd87dbae5b</td>\n",
              "    </tr>\n",
              "    <tr>\n",
              "      <th>3</th>\n",
              "      <td>2022-12-04</td>\n",
              "      <td>mobile</td>\n",
              "      <td>iOS</td>\n",
              "      <td>United States</td>\n",
              "      <td>dfa</td>\n",
              "      <td>cpm</td>\n",
              "      <td>0</td>\n",
              "      <td>1</td>\n",
              "      <td>1</td>\n",
              "      <td>0</td>\n",
              "      <td>0</td>\n",
              "      <td>0</td>\n",
              "      <td>08277271-e006-5f32-a01d-f79afbe73f45</td>\n",
              "    </tr>\n",
              "    <tr>\n",
              "      <th>4</th>\n",
              "      <td>2023-04-09</td>\n",
              "      <td>mobile</td>\n",
              "      <td>iOS</td>\n",
              "      <td>United States</td>\n",
              "      <td>dfa</td>\n",
              "      <td>cpm</td>\n",
              "      <td>0</td>\n",
              "      <td>1</td>\n",
              "      <td>1</td>\n",
              "      <td>0</td>\n",
              "      <td>0</td>\n",
              "      <td>0</td>\n",
              "      <td>f830d8b5-eb28-53b4-8238-59f636bf1d2c</td>\n",
              "    </tr>\n",
              "  </tbody>\n",
              "</table>\n",
              "</div>\n",
              "    <div class=\"colab-df-buttons\">\n",
              "\n",
              "  <div class=\"colab-df-container\">\n",
              "    <button class=\"colab-df-convert\" onclick=\"convertToInteractive('df-21a9c921-fbe4-408f-ad32-e61e9546c839')\"\n",
              "            title=\"Convert this dataframe to an interactive table.\"\n",
              "            style=\"display:none;\">\n",
              "\n",
              "  <svg xmlns=\"http://www.w3.org/2000/svg\" height=\"24px\" viewBox=\"0 -960 960 960\">\n",
              "    <path d=\"M120-120v-720h720v720H120Zm60-500h600v-160H180v160Zm220 220h160v-160H400v160Zm0 220h160v-160H400v160ZM180-400h160v-160H180v160Zm440 0h160v-160H620v160ZM180-180h160v-160H180v160Zm440 0h160v-160H620v160Z\"/>\n",
              "  </svg>\n",
              "    </button>\n",
              "\n",
              "  <style>\n",
              "    .colab-df-container {\n",
              "      display:flex;\n",
              "      gap: 12px;\n",
              "    }\n",
              "\n",
              "    .colab-df-convert {\n",
              "      background-color: #E8F0FE;\n",
              "      border: none;\n",
              "      border-radius: 50%;\n",
              "      cursor: pointer;\n",
              "      display: none;\n",
              "      fill: #1967D2;\n",
              "      height: 32px;\n",
              "      padding: 0 0 0 0;\n",
              "      width: 32px;\n",
              "    }\n",
              "\n",
              "    .colab-df-convert:hover {\n",
              "      background-color: #E2EBFA;\n",
              "      box-shadow: 0px 1px 2px rgba(60, 64, 67, 0.3), 0px 1px 3px 1px rgba(60, 64, 67, 0.15);\n",
              "      fill: #174EA6;\n",
              "    }\n",
              "\n",
              "    .colab-df-buttons div {\n",
              "      margin-bottom: 4px;\n",
              "    }\n",
              "\n",
              "    [theme=dark] .colab-df-convert {\n",
              "      background-color: #3B4455;\n",
              "      fill: #D2E3FC;\n",
              "    }\n",
              "\n",
              "    [theme=dark] .colab-df-convert:hover {\n",
              "      background-color: #434B5C;\n",
              "      box-shadow: 0px 1px 3px 1px rgba(0, 0, 0, 0.15);\n",
              "      filter: drop-shadow(0px 1px 2px rgba(0, 0, 0, 0.3));\n",
              "      fill: #FFFFFF;\n",
              "    }\n",
              "  </style>\n",
              "\n",
              "    <script>\n",
              "      const buttonEl =\n",
              "        document.querySelector('#df-21a9c921-fbe4-408f-ad32-e61e9546c839 button.colab-df-convert');\n",
              "      buttonEl.style.display =\n",
              "        google.colab.kernel.accessAllowed ? 'block' : 'none';\n",
              "\n",
              "      async function convertToInteractive(key) {\n",
              "        const element = document.querySelector('#df-21a9c921-fbe4-408f-ad32-e61e9546c839');\n",
              "        const dataTable =\n",
              "          await google.colab.kernel.invokeFunction('convertToInteractive',\n",
              "                                                    [key], {});\n",
              "        if (!dataTable) return;\n",
              "\n",
              "        const docLinkHtml = 'Like what you see? Visit the ' +\n",
              "          '<a target=\"_blank\" href=https://colab.research.google.com/notebooks/data_table.ipynb>data table notebook</a>'\n",
              "          + ' to learn more about interactive tables.';\n",
              "        element.innerHTML = '';\n",
              "        dataTable['output_type'] = 'display_data';\n",
              "        await google.colab.output.renderOutput(dataTable, element);\n",
              "        const docLink = document.createElement('div');\n",
              "        docLink.innerHTML = docLinkHtml;\n",
              "        element.appendChild(docLink);\n",
              "      }\n",
              "    </script>\n",
              "  </div>\n",
              "\n",
              "\n",
              "<div id=\"df-20d45f16-e9cd-4f82-94c9-d0ed977f67e8\">\n",
              "  <button class=\"colab-df-quickchart\" onclick=\"quickchart('df-20d45f16-e9cd-4f82-94c9-d0ed977f67e8')\"\n",
              "            title=\"Suggest charts\"\n",
              "            style=\"display:none;\">\n",
              "\n",
              "<svg xmlns=\"http://www.w3.org/2000/svg\" height=\"24px\"viewBox=\"0 0 24 24\"\n",
              "     width=\"24px\">\n",
              "    <g>\n",
              "        <path d=\"M19 3H5c-1.1 0-2 .9-2 2v14c0 1.1.9 2 2 2h14c1.1 0 2-.9 2-2V5c0-1.1-.9-2-2-2zM9 17H7v-7h2v7zm4 0h-2V7h2v10zm4 0h-2v-4h2v4z\"/>\n",
              "    </g>\n",
              "</svg>\n",
              "  </button>\n",
              "\n",
              "<style>\n",
              "  .colab-df-quickchart {\n",
              "      --bg-color: #E8F0FE;\n",
              "      --fill-color: #1967D2;\n",
              "      --hover-bg-color: #E2EBFA;\n",
              "      --hover-fill-color: #174EA6;\n",
              "      --disabled-fill-color: #AAA;\n",
              "      --disabled-bg-color: #DDD;\n",
              "  }\n",
              "\n",
              "  [theme=dark] .colab-df-quickchart {\n",
              "      --bg-color: #3B4455;\n",
              "      --fill-color: #D2E3FC;\n",
              "      --hover-bg-color: #434B5C;\n",
              "      --hover-fill-color: #FFFFFF;\n",
              "      --disabled-bg-color: #3B4455;\n",
              "      --disabled-fill-color: #666;\n",
              "  }\n",
              "\n",
              "  .colab-df-quickchart {\n",
              "    background-color: var(--bg-color);\n",
              "    border: none;\n",
              "    border-radius: 50%;\n",
              "    cursor: pointer;\n",
              "    display: none;\n",
              "    fill: var(--fill-color);\n",
              "    height: 32px;\n",
              "    padding: 0;\n",
              "    width: 32px;\n",
              "  }\n",
              "\n",
              "  .colab-df-quickchart:hover {\n",
              "    background-color: var(--hover-bg-color);\n",
              "    box-shadow: 0 1px 2px rgba(60, 64, 67, 0.3), 0 1px 3px 1px rgba(60, 64, 67, 0.15);\n",
              "    fill: var(--button-hover-fill-color);\n",
              "  }\n",
              "\n",
              "  .colab-df-quickchart-complete:disabled,\n",
              "  .colab-df-quickchart-complete:disabled:hover {\n",
              "    background-color: var(--disabled-bg-color);\n",
              "    fill: var(--disabled-fill-color);\n",
              "    box-shadow: none;\n",
              "  }\n",
              "\n",
              "  .colab-df-spinner {\n",
              "    border: 2px solid var(--fill-color);\n",
              "    border-color: transparent;\n",
              "    border-bottom-color: var(--fill-color);\n",
              "    animation:\n",
              "      spin 1s steps(1) infinite;\n",
              "  }\n",
              "\n",
              "  @keyframes spin {\n",
              "    0% {\n",
              "      border-color: transparent;\n",
              "      border-bottom-color: var(--fill-color);\n",
              "      border-left-color: var(--fill-color);\n",
              "    }\n",
              "    20% {\n",
              "      border-color: transparent;\n",
              "      border-left-color: var(--fill-color);\n",
              "      border-top-color: var(--fill-color);\n",
              "    }\n",
              "    30% {\n",
              "      border-color: transparent;\n",
              "      border-left-color: var(--fill-color);\n",
              "      border-top-color: var(--fill-color);\n",
              "      border-right-color: var(--fill-color);\n",
              "    }\n",
              "    40% {\n",
              "      border-color: transparent;\n",
              "      border-right-color: var(--fill-color);\n",
              "      border-top-color: var(--fill-color);\n",
              "    }\n",
              "    60% {\n",
              "      border-color: transparent;\n",
              "      border-right-color: var(--fill-color);\n",
              "    }\n",
              "    80% {\n",
              "      border-color: transparent;\n",
              "      border-right-color: var(--fill-color);\n",
              "      border-bottom-color: var(--fill-color);\n",
              "    }\n",
              "    90% {\n",
              "      border-color: transparent;\n",
              "      border-bottom-color: var(--fill-color);\n",
              "    }\n",
              "  }\n",
              "</style>\n",
              "\n",
              "  <script>\n",
              "    async function quickchart(key) {\n",
              "      const quickchartButtonEl =\n",
              "        document.querySelector('#' + key + ' button');\n",
              "      quickchartButtonEl.disabled = true;  // To prevent multiple clicks.\n",
              "      quickchartButtonEl.classList.add('colab-df-spinner');\n",
              "      try {\n",
              "        const charts = await google.colab.kernel.invokeFunction(\n",
              "            'suggestCharts', [key], {});\n",
              "      } catch (error) {\n",
              "        console.error('Error during call to suggestCharts:', error);\n",
              "      }\n",
              "      quickchartButtonEl.classList.remove('colab-df-spinner');\n",
              "      quickchartButtonEl.classList.add('colab-df-quickchart-complete');\n",
              "    }\n",
              "    (() => {\n",
              "      let quickchartButtonEl =\n",
              "        document.querySelector('#df-20d45f16-e9cd-4f82-94c9-d0ed977f67e8 button');\n",
              "      quickchartButtonEl.style.display =\n",
              "        google.colab.kernel.accessAllowed ? 'block' : 'none';\n",
              "    })();\n",
              "  </script>\n",
              "</div>\n",
              "\n",
              "    </div>\n",
              "  </div>\n"
            ],
            "application/vnd.google.colaboratory.intrinsic+json": {
              "type": "dataframe",
              "variable_name": "data_curated"
            }
          },
          "metadata": {},
          "execution_count": 41
        }
      ]
    },
    {
      "cell_type": "code",
      "source": [
        "data1=data_curated # For handling the categorical variables\n",
        "\n",
        "# Initialize LabelEncoder\n",
        "le = LabelEncoder()\n",
        "\n",
        "# Encode categorical variables\n",
        "for column in ['deviceCategory', 'operatingSystem', 'country', 'trafficSource', 'trafficMedium',\n",
        "               'fullVisitorId_transformed']:\n",
        "    data1[column] = le.fit_transform(data1[column])\n",
        "\n",
        "data1.head()"
      ],
      "metadata": {
        "colab": {
          "base_uri": "https://localhost:8080/",
          "height": 313
        },
        "id": "VGwy0wNa4pu4",
        "outputId": "0d6b5283-9036-411c-a3bb-92d1ad967511"
      },
      "execution_count": null,
      "outputs": [
        {
          "output_type": "execute_result",
          "data": {
            "text/plain": [
              "        date  deviceCategory  operatingSystem  country  trafficSource  \\\n",
              "0 2023-02-11               2               19      209             46   \n",
              "1 2022-11-18               1               19      209             46   \n",
              "2 2022-11-24               1               19      209             46   \n",
              "3 2022-12-04               1               19      209             46   \n",
              "4 2023-04-09               1               19      209             46   \n",
              "\n",
              "   trafficMedium  isFirstVisit  totalHits  totalPageviews  totalTimeOnSite  \\\n",
              "0              2             0          1               1                0   \n",
              "1              2             0          1               1                0   \n",
              "2              2             0          1               1                0   \n",
              "3              2             0          1               1                0   \n",
              "4              2             0          1               1                0   \n",
              "\n",
              "   productPagesViewed  addedToCart  fullVisitorId_transformed  \n",
              "0                   0            0                     246732  \n",
              "1                   0            0                     285199  \n",
              "2                   0            0                     272229  \n",
              "3                   0            0                      20086  \n",
              "4                   0            0                     606603  "
            ],
            "text/html": [
              "\n",
              "  <div id=\"df-b405834d-313b-4b13-8c53-853d54733538\" class=\"colab-df-container\">\n",
              "    <div>\n",
              "<style scoped>\n",
              "    .dataframe tbody tr th:only-of-type {\n",
              "        vertical-align: middle;\n",
              "    }\n",
              "\n",
              "    .dataframe tbody tr th {\n",
              "        vertical-align: top;\n",
              "    }\n",
              "\n",
              "    .dataframe thead th {\n",
              "        text-align: right;\n",
              "    }\n",
              "</style>\n",
              "<table border=\"1\" class=\"dataframe\">\n",
              "  <thead>\n",
              "    <tr style=\"text-align: right;\">\n",
              "      <th></th>\n",
              "      <th>date</th>\n",
              "      <th>deviceCategory</th>\n",
              "      <th>operatingSystem</th>\n",
              "      <th>country</th>\n",
              "      <th>trafficSource</th>\n",
              "      <th>trafficMedium</th>\n",
              "      <th>isFirstVisit</th>\n",
              "      <th>totalHits</th>\n",
              "      <th>totalPageviews</th>\n",
              "      <th>totalTimeOnSite</th>\n",
              "      <th>productPagesViewed</th>\n",
              "      <th>addedToCart</th>\n",
              "      <th>fullVisitorId_transformed</th>\n",
              "    </tr>\n",
              "  </thead>\n",
              "  <tbody>\n",
              "    <tr>\n",
              "      <th>0</th>\n",
              "      <td>2023-02-11</td>\n",
              "      <td>2</td>\n",
              "      <td>19</td>\n",
              "      <td>209</td>\n",
              "      <td>46</td>\n",
              "      <td>2</td>\n",
              "      <td>0</td>\n",
              "      <td>1</td>\n",
              "      <td>1</td>\n",
              "      <td>0</td>\n",
              "      <td>0</td>\n",
              "      <td>0</td>\n",
              "      <td>246732</td>\n",
              "    </tr>\n",
              "    <tr>\n",
              "      <th>1</th>\n",
              "      <td>2022-11-18</td>\n",
              "      <td>1</td>\n",
              "      <td>19</td>\n",
              "      <td>209</td>\n",
              "      <td>46</td>\n",
              "      <td>2</td>\n",
              "      <td>0</td>\n",
              "      <td>1</td>\n",
              "      <td>1</td>\n",
              "      <td>0</td>\n",
              "      <td>0</td>\n",
              "      <td>0</td>\n",
              "      <td>285199</td>\n",
              "    </tr>\n",
              "    <tr>\n",
              "      <th>2</th>\n",
              "      <td>2022-11-24</td>\n",
              "      <td>1</td>\n",
              "      <td>19</td>\n",
              "      <td>209</td>\n",
              "      <td>46</td>\n",
              "      <td>2</td>\n",
              "      <td>0</td>\n",
              "      <td>1</td>\n",
              "      <td>1</td>\n",
              "      <td>0</td>\n",
              "      <td>0</td>\n",
              "      <td>0</td>\n",
              "      <td>272229</td>\n",
              "    </tr>\n",
              "    <tr>\n",
              "      <th>3</th>\n",
              "      <td>2022-12-04</td>\n",
              "      <td>1</td>\n",
              "      <td>19</td>\n",
              "      <td>209</td>\n",
              "      <td>46</td>\n",
              "      <td>2</td>\n",
              "      <td>0</td>\n",
              "      <td>1</td>\n",
              "      <td>1</td>\n",
              "      <td>0</td>\n",
              "      <td>0</td>\n",
              "      <td>0</td>\n",
              "      <td>20086</td>\n",
              "    </tr>\n",
              "    <tr>\n",
              "      <th>4</th>\n",
              "      <td>2023-04-09</td>\n",
              "      <td>1</td>\n",
              "      <td>19</td>\n",
              "      <td>209</td>\n",
              "      <td>46</td>\n",
              "      <td>2</td>\n",
              "      <td>0</td>\n",
              "      <td>1</td>\n",
              "      <td>1</td>\n",
              "      <td>0</td>\n",
              "      <td>0</td>\n",
              "      <td>0</td>\n",
              "      <td>606603</td>\n",
              "    </tr>\n",
              "  </tbody>\n",
              "</table>\n",
              "</div>\n",
              "    <div class=\"colab-df-buttons\">\n",
              "\n",
              "  <div class=\"colab-df-container\">\n",
              "    <button class=\"colab-df-convert\" onclick=\"convertToInteractive('df-b405834d-313b-4b13-8c53-853d54733538')\"\n",
              "            title=\"Convert this dataframe to an interactive table.\"\n",
              "            style=\"display:none;\">\n",
              "\n",
              "  <svg xmlns=\"http://www.w3.org/2000/svg\" height=\"24px\" viewBox=\"0 -960 960 960\">\n",
              "    <path d=\"M120-120v-720h720v720H120Zm60-500h600v-160H180v160Zm220 220h160v-160H400v160Zm0 220h160v-160H400v160ZM180-400h160v-160H180v160Zm440 0h160v-160H620v160ZM180-180h160v-160H180v160Zm440 0h160v-160H620v160Z\"/>\n",
              "  </svg>\n",
              "    </button>\n",
              "\n",
              "  <style>\n",
              "    .colab-df-container {\n",
              "      display:flex;\n",
              "      gap: 12px;\n",
              "    }\n",
              "\n",
              "    .colab-df-convert {\n",
              "      background-color: #E8F0FE;\n",
              "      border: none;\n",
              "      border-radius: 50%;\n",
              "      cursor: pointer;\n",
              "      display: none;\n",
              "      fill: #1967D2;\n",
              "      height: 32px;\n",
              "      padding: 0 0 0 0;\n",
              "      width: 32px;\n",
              "    }\n",
              "\n",
              "    .colab-df-convert:hover {\n",
              "      background-color: #E2EBFA;\n",
              "      box-shadow: 0px 1px 2px rgba(60, 64, 67, 0.3), 0px 1px 3px 1px rgba(60, 64, 67, 0.15);\n",
              "      fill: #174EA6;\n",
              "    }\n",
              "\n",
              "    .colab-df-buttons div {\n",
              "      margin-bottom: 4px;\n",
              "    }\n",
              "\n",
              "    [theme=dark] .colab-df-convert {\n",
              "      background-color: #3B4455;\n",
              "      fill: #D2E3FC;\n",
              "    }\n",
              "\n",
              "    [theme=dark] .colab-df-convert:hover {\n",
              "      background-color: #434B5C;\n",
              "      box-shadow: 0px 1px 3px 1px rgba(0, 0, 0, 0.15);\n",
              "      filter: drop-shadow(0px 1px 2px rgba(0, 0, 0, 0.3));\n",
              "      fill: #FFFFFF;\n",
              "    }\n",
              "  </style>\n",
              "\n",
              "    <script>\n",
              "      const buttonEl =\n",
              "        document.querySelector('#df-b405834d-313b-4b13-8c53-853d54733538 button.colab-df-convert');\n",
              "      buttonEl.style.display =\n",
              "        google.colab.kernel.accessAllowed ? 'block' : 'none';\n",
              "\n",
              "      async function convertToInteractive(key) {\n",
              "        const element = document.querySelector('#df-b405834d-313b-4b13-8c53-853d54733538');\n",
              "        const dataTable =\n",
              "          await google.colab.kernel.invokeFunction('convertToInteractive',\n",
              "                                                    [key], {});\n",
              "        if (!dataTable) return;\n",
              "\n",
              "        const docLinkHtml = 'Like what you see? Visit the ' +\n",
              "          '<a target=\"_blank\" href=https://colab.research.google.com/notebooks/data_table.ipynb>data table notebook</a>'\n",
              "          + ' to learn more about interactive tables.';\n",
              "        element.innerHTML = '';\n",
              "        dataTable['output_type'] = 'display_data';\n",
              "        await google.colab.output.renderOutput(dataTable, element);\n",
              "        const docLink = document.createElement('div');\n",
              "        docLink.innerHTML = docLinkHtml;\n",
              "        element.appendChild(docLink);\n",
              "      }\n",
              "    </script>\n",
              "  </div>\n",
              "\n",
              "\n",
              "<div id=\"df-21204895-b52c-4dd0-bf1e-3d10deec9d63\">\n",
              "  <button class=\"colab-df-quickchart\" onclick=\"quickchart('df-21204895-b52c-4dd0-bf1e-3d10deec9d63')\"\n",
              "            title=\"Suggest charts\"\n",
              "            style=\"display:none;\">\n",
              "\n",
              "<svg xmlns=\"http://www.w3.org/2000/svg\" height=\"24px\"viewBox=\"0 0 24 24\"\n",
              "     width=\"24px\">\n",
              "    <g>\n",
              "        <path d=\"M19 3H5c-1.1 0-2 .9-2 2v14c0 1.1.9 2 2 2h14c1.1 0 2-.9 2-2V5c0-1.1-.9-2-2-2zM9 17H7v-7h2v7zm4 0h-2V7h2v10zm4 0h-2v-4h2v4z\"/>\n",
              "    </g>\n",
              "</svg>\n",
              "  </button>\n",
              "\n",
              "<style>\n",
              "  .colab-df-quickchart {\n",
              "      --bg-color: #E8F0FE;\n",
              "      --fill-color: #1967D2;\n",
              "      --hover-bg-color: #E2EBFA;\n",
              "      --hover-fill-color: #174EA6;\n",
              "      --disabled-fill-color: #AAA;\n",
              "      --disabled-bg-color: #DDD;\n",
              "  }\n",
              "\n",
              "  [theme=dark] .colab-df-quickchart {\n",
              "      --bg-color: #3B4455;\n",
              "      --fill-color: #D2E3FC;\n",
              "      --hover-bg-color: #434B5C;\n",
              "      --hover-fill-color: #FFFFFF;\n",
              "      --disabled-bg-color: #3B4455;\n",
              "      --disabled-fill-color: #666;\n",
              "  }\n",
              "\n",
              "  .colab-df-quickchart {\n",
              "    background-color: var(--bg-color);\n",
              "    border: none;\n",
              "    border-radius: 50%;\n",
              "    cursor: pointer;\n",
              "    display: none;\n",
              "    fill: var(--fill-color);\n",
              "    height: 32px;\n",
              "    padding: 0;\n",
              "    width: 32px;\n",
              "  }\n",
              "\n",
              "  .colab-df-quickchart:hover {\n",
              "    background-color: var(--hover-bg-color);\n",
              "    box-shadow: 0 1px 2px rgba(60, 64, 67, 0.3), 0 1px 3px 1px rgba(60, 64, 67, 0.15);\n",
              "    fill: var(--button-hover-fill-color);\n",
              "  }\n",
              "\n",
              "  .colab-df-quickchart-complete:disabled,\n",
              "  .colab-df-quickchart-complete:disabled:hover {\n",
              "    background-color: var(--disabled-bg-color);\n",
              "    fill: var(--disabled-fill-color);\n",
              "    box-shadow: none;\n",
              "  }\n",
              "\n",
              "  .colab-df-spinner {\n",
              "    border: 2px solid var(--fill-color);\n",
              "    border-color: transparent;\n",
              "    border-bottom-color: var(--fill-color);\n",
              "    animation:\n",
              "      spin 1s steps(1) infinite;\n",
              "  }\n",
              "\n",
              "  @keyframes spin {\n",
              "    0% {\n",
              "      border-color: transparent;\n",
              "      border-bottom-color: var(--fill-color);\n",
              "      border-left-color: var(--fill-color);\n",
              "    }\n",
              "    20% {\n",
              "      border-color: transparent;\n",
              "      border-left-color: var(--fill-color);\n",
              "      border-top-color: var(--fill-color);\n",
              "    }\n",
              "    30% {\n",
              "      border-color: transparent;\n",
              "      border-left-color: var(--fill-color);\n",
              "      border-top-color: var(--fill-color);\n",
              "      border-right-color: var(--fill-color);\n",
              "    }\n",
              "    40% {\n",
              "      border-color: transparent;\n",
              "      border-right-color: var(--fill-color);\n",
              "      border-top-color: var(--fill-color);\n",
              "    }\n",
              "    60% {\n",
              "      border-color: transparent;\n",
              "      border-right-color: var(--fill-color);\n",
              "    }\n",
              "    80% {\n",
              "      border-color: transparent;\n",
              "      border-right-color: var(--fill-color);\n",
              "      border-bottom-color: var(--fill-color);\n",
              "    }\n",
              "    90% {\n",
              "      border-color: transparent;\n",
              "      border-bottom-color: var(--fill-color);\n",
              "    }\n",
              "  }\n",
              "</style>\n",
              "\n",
              "  <script>\n",
              "    async function quickchart(key) {\n",
              "      const quickchartButtonEl =\n",
              "        document.querySelector('#' + key + ' button');\n",
              "      quickchartButtonEl.disabled = true;  // To prevent multiple clicks.\n",
              "      quickchartButtonEl.classList.add('colab-df-spinner');\n",
              "      try {\n",
              "        const charts = await google.colab.kernel.invokeFunction(\n",
              "            'suggestCharts', [key], {});\n",
              "      } catch (error) {\n",
              "        console.error('Error during call to suggestCharts:', error);\n",
              "      }\n",
              "      quickchartButtonEl.classList.remove('colab-df-spinner');\n",
              "      quickchartButtonEl.classList.add('colab-df-quickchart-complete');\n",
              "    }\n",
              "    (() => {\n",
              "      let quickchartButtonEl =\n",
              "        document.querySelector('#df-21204895-b52c-4dd0-bf1e-3d10deec9d63 button');\n",
              "      quickchartButtonEl.style.display =\n",
              "        google.colab.kernel.accessAllowed ? 'block' : 'none';\n",
              "    })();\n",
              "  </script>\n",
              "</div>\n",
              "\n",
              "    </div>\n",
              "  </div>\n"
            ],
            "application/vnd.google.colaboratory.intrinsic+json": {
              "type": "dataframe",
              "variable_name": "data1"
            }
          },
          "metadata": {},
          "execution_count": 42
        }
      ]
    },
    {
      "cell_type": "markdown",
      "source": [
        "**MachineLearning Model**"
      ],
      "metadata": {
        "id": "7ZCXzjP9h9NJ"
      }
    },
    {
      "cell_type": "markdown",
      "source": [
        "**Preparing the data for training the model**"
      ],
      "metadata": {
        "id": "IVYrgXBb5JYo"
      }
    },
    {
      "cell_type": "code",
      "source": [
        "# Feature matrix and target variable\n",
        "X = data1.drop(columns=['addedToCart','date'])\n",
        "y = data1['addedToCart']\n",
        "\n",
        "# Split the data\n",
        "X_train, X_test, y_train, y_test = train_test_split(X, y, test_size=0.2, random_state=42)"
      ],
      "metadata": {
        "id": "QYTcRfnZfRn8"
      },
      "execution_count": null,
      "outputs": []
    },
    {
      "cell_type": "markdown",
      "source": [
        "Understanding the features relationship with the target variable:"
      ],
      "metadata": {
        "id": "E2N-fna79pkc"
      }
    },
    {
      "cell_type": "markdown",
      "source": [
        "**Random forest**"
      ],
      "metadata": {
        "id": "KtKTdJ-459By"
      }
    },
    {
      "cell_type": "code",
      "source": [
        "start_time = time.time()\n",
        "model_rf = RandomForestClassifier(n_estimators=100, random_state=42)\n",
        "model_rf.fit(X_train, y_train)\n",
        "y_pred = model_rf.predict(X_test)\n",
        "\n",
        "accuracy = accuracy_score(y_test, y_pred)\n",
        "print(f'Accuracy of Random Forest Classifier: {accuracy:.4f}')\n",
        "\n",
        "print(classification_report(y_test, y_pred))\n",
        "# Calculate training time\n",
        "training_time = time.time() - start_time\n",
        "print(f'Training time: {training_time:.2f} seconds')\n",
        "\n",
        "# Save the model\n",
        "with open(f'rf_1.pkl', 'wb') as file:\n",
        "        pickle.dump(model_rf, file)\n",
        "\n",
        "end_time = time.time()\n",
        "print(f\" training and saving took {end_time - start_time:.2f} seconds\\n\")\n",
        "\n",
        "\n"
      ],
      "metadata": {
        "colab": {
          "base_uri": "https://localhost:8080/"
        },
        "id": "l15BoV6_hVsQ",
        "outputId": "2db697b6-5008-4a44-d4cc-fae871c91b9e"
      },
      "execution_count": null,
      "outputs": [
        {
          "output_type": "stream",
          "name": "stdout",
          "text": [
            "Accuracy of Random Forest Classifier: 0.9630\n",
            "              precision    recall  f1-score   support\n",
            "\n",
            "           0       0.98      0.99      0.98    144806\n",
            "           1       0.69      0.57      0.63      8336\n",
            "\n",
            "    accuracy                           0.96    153142\n",
            "   macro avg       0.84      0.78      0.80    153142\n",
            "weighted avg       0.96      0.96      0.96    153142\n",
            "\n",
            "Training time: 90.35 seconds\n",
            " training and saving took 91.99 seconds\n",
            "\n"
          ]
        }
      ]
    },
    {
      "cell_type": "code",
      "source": [
        "from sklearn.metrics import confusion_matrix, classification_report, ConfusionMatrixDisplay\n",
        "import matplotlib.pyplot as plt\n",
        "cm = confusion_matrix(y_test, y_pred)\n",
        "disp = ConfusionMatrixDisplay(confusion_matrix=cm, display_labels=model_rf.classes_)\n",
        "disp.plot(cmap=plt.cm.Blues)\n",
        "plt.title('Confusion Matrix')\n",
        "plt.show()"
      ],
      "metadata": {
        "colab": {
          "base_uri": "https://localhost:8080/",
          "height": 472
        },
        "outputId": "cb899402-8eb0-43cd-a525-cc71c9028c8e",
        "id": "SQ1yruZQAIEy"
      },
      "execution_count": null,
      "outputs": [
        {
          "output_type": "display_data",
          "data": {
            "text/plain": [
              "<Figure size 640x480 with 2 Axes>"
            ],
            "image/png": "[encoded data removed]"
          },
          "metadata": {}
        }
      ]
    },
    {
      "cell_type": "markdown",
      "source": [
        "**Model Explanation and Key Drivers**\n",
        "\n",
        "A. Feature Importance\n",
        "\n"
      ],
      "metadata": {
        "id": "81dBpy1TAIE7"
      }
    },
    {
      "cell_type": "code",
      "source": [
        "# Feature importance\n",
        "feature_importances = model_rf.feature_importances_\n",
        "feature_importances\n",
        "features = X.columns\n",
        "importance_df = pd.DataFrame({'Feature': features, 'Importance': feature_importances})\n",
        "importance_df.sort_values(by='Importance', ascending=False, inplace=True)\n",
        "sns.barplot(x='Importance', y='Feature', data=importance_df)\n"
      ],
      "metadata": {
        "colab": {
          "base_uri": "https://localhost:8080/",
          "height": 466
        },
        "id": "yMwsdrZLAIE7",
        "outputId": "d883d9ae-d82a-4e31-f337-7e06871db44d"
      },
      "execution_count": null,
      "outputs": [
        {
          "output_type": "execute_result",
          "data": {
            "text/plain": [
              "<Axes: xlabel='Importance', ylabel='Feature'>"
            ]
          },
          "metadata": {},
          "execution_count": 47
        },
        {
          "output_type": "display_data",
          "data": {
            "text/plain": [
              "<Figure size 640x480 with 1 Axes>"
            ],
            "image/png": "[encoded data removed]"
          },
          "metadata": {}
        }
      ]
    },
    {
      "cell_type": "markdown",
      "source": [
        "**Logistic Regression**"
      ],
      "metadata": {
        "id": "MHwihO-U6GRm"
      }
    },
    {
      "cell_type": "code",
      "source": [
        "start_time = time.time()\n",
        "model_lr = LogisticRegression()\n",
        "model_lr.fit(X_train, y_train)\n",
        "\n",
        "# Predict on test data\n",
        "y_pred = model_lr.predict(X_test)\n",
        "\n",
        "# Evaluate model performance\n",
        "accuracy = accuracy_score(y_test, y_pred)\n",
        "print(f'Accuracy of Logistic Regression: {accuracy:.4f}')\n",
        "\n",
        "# Print classification report for more detailed evaluation\n",
        "print('Classification Report:')\n",
        "print(classification_report(y_test, y_pred))\n",
        "\n",
        "# Calculate training time\n",
        "training_time = time.time() - start_time\n",
        "print(f'Training time: {training_time:.2f} seconds')\n",
        "\n",
        "\n",
        "# Save the model\n",
        "with open(f'lr.pkl', 'wb') as file:\n",
        "        pickle.dump(model_rf, file)\n",
        "\n",
        "end_time = time.time()\n",
        "print(f\" training and saving took {end_time - start_time:.2f} seconds\\n\")"
      ],
      "metadata": {
        "colab": {
          "base_uri": "https://localhost:8080/"
        },
        "id": "IeVa_y0wLbZk",
        "outputId": "8efcb4da-d306-4633-ca46-927c8ae0cd5d"
      },
      "execution_count": null,
      "outputs": [
        {
          "output_type": "stream",
          "name": "stdout",
          "text": [
            "Accuracy of Logistic Regression: 0.9539\n",
            "Classification Report:\n",
            "              precision    recall  f1-score   support\n",
            "\n",
            "           0       0.96      0.99      0.98    144806\n",
            "           1       0.64      0.35      0.45      8336\n",
            "\n",
            "    accuracy                           0.95    153142\n",
            "   macro avg       0.80      0.67      0.71    153142\n",
            "weighted avg       0.95      0.95      0.95    153142\n",
            "\n",
            "Training time: 9.51 seconds\n",
            " training and saving took 10.81 seconds\n",
            "\n"
          ]
        }
      ]
    },
    {
      "cell_type": "code",
      "source": [
        "from sklearn.metrics import confusion_matrix, classification_report, ConfusionMatrixDisplay\n",
        "import matplotlib.pyplot as plt\n",
        "cm = confusion_matrix(y_test, y_pred)\n",
        "disp = ConfusionMatrixDisplay(confusion_matrix=cm, display_labels=model_lr.classes_)\n",
        "disp.plot(cmap=plt.cm.Blues)\n",
        "plt.title('Confusion Matrix')\n",
        "plt.show()"
      ],
      "metadata": {
        "colab": {
          "base_uri": "https://localhost:8080/",
          "height": 472
        },
        "outputId": "3ba5f0ce-6ce3-4da0-acca-15a9a2bcf8a7",
        "id": "ZcHNLPK_AGjC"
      },
      "execution_count": null,
      "outputs": [
        {
          "output_type": "display_data",
          "data": {
            "text/plain": [
              "<Figure size 640x480 with 2 Axes>"
            ],
            "image/png": "[encoded data removed]"
          },
          "metadata": {}
        }
      ]
    },
    {
      "cell_type": "markdown",
      "source": [
        "**XGBoost classifier**"
      ],
      "metadata": {
        "id": "o-tKDGi96KGo"
      }
    },
    {
      "cell_type": "code",
      "source": [
        "# Initialize XGBoost classifier\n",
        "model_xgb = XGBClassifier(\n",
        "    n_estimators=100,  # Number of boosting rounds\n",
        "    max_depth=3,  # Maximum depth of each tree\n",
        "    learning_rate=0.1,  # Step size shrinkage\n",
        "    random_state=42\n",
        ")\n",
        "start_time = time.time()\n",
        "# Train the model\n",
        "model_xgb.fit(X_train, y_train)\n",
        "\n",
        "# Predict on test data\n",
        "y_pred = model_xgb.predict(X_test)\n",
        "\n",
        "# Evaluate model performance\n",
        "accuracy = accuracy_score(y_test, y_pred)\n",
        "print(f'Accuracy of XGBoost Classifier: {accuracy:.4f}')\n",
        "\n",
        "# Print classification report for more detailed evaluation\n",
        "print('Classification Report:')\n",
        "print(classification_report(y_test, y_pred))\n",
        "\n",
        "# Calculate training time\n",
        "training_time = time.time() - start_time\n",
        "print(f'Training time: {training_time:.2f} seconds')\n",
        "\n",
        "\n",
        "# Save the model\n",
        "with open(f'xgb.pkl', 'wb') as file:\n",
        "        pickle.dump(model_xgb, file)\n",
        "\n",
        "end_time = time.time()\n",
        "print(f\" training and saving took {end_time - start_time:.2f} seconds\\n\")"
      ],
      "metadata": {
        "colab": {
          "base_uri": "https://localhost:8080/"
        },
        "id": "9o-pLQ05LtP6",
        "outputId": "0f0a9968-cb34-4c6b-d785-67ab4cd2651d"
      },
      "execution_count": null,
      "outputs": [
        {
          "output_type": "stream",
          "name": "stdout",
          "text": [
            "Accuracy of XGBoost Classifier: 0.9596\n",
            "Classification Report:\n",
            "              precision    recall  f1-score   support\n",
            "\n",
            "           0       0.97      0.99      0.98    144806\n",
            "           1       0.70      0.45      0.55      8336\n",
            "\n",
            "    accuracy                           0.96    153142\n",
            "   macro avg       0.83      0.72      0.76    153142\n",
            "weighted avg       0.95      0.96      0.96    153142\n",
            "\n",
            "Training time: 5.57 seconds\n",
            " training and saving took 5.58 seconds\n",
            "\n"
          ]
        }
      ]
    },
    {
      "cell_type": "code",
      "source": [
        "from sklearn.metrics import confusion_matrix, classification_report, ConfusionMatrixDisplay\n",
        "import matplotlib.pyplot as plt\n",
        "cm = confusion_matrix(y_test, y_pred)\n",
        "disp = ConfusionMatrixDisplay(confusion_matrix=cm, display_labels=model_xgb.classes_)\n",
        "disp.plot(cmap=plt.cm.Blues)\n",
        "plt.title('Confusion Matrix')\n",
        "plt.show()"
      ],
      "metadata": {
        "colab": {
          "base_uri": "https://localhost:8080/",
          "height": 472
        },
        "outputId": "3a591ff2-7e36-475e-875c-75d557466598",
        "id": "E5pl-VB2AFFz"
      },
      "execution_count": null,
      "outputs": [
        {
          "output_type": "display_data",
          "data": {
            "text/plain": [
              "<Figure size 640x480 with 2 Axes>"
            ],
            "image/png": "[encoded data removed]"
          },
          "metadata": {}
        }
      ]
    },
    {
      "cell_type": "markdown",
      "source": [
        "4. Model Explanation and Key Drivers\n",
        "A. Feature Importance\n",
        "\n"
      ],
      "metadata": {
        "id": "R0hcevITAFF7"
      }
    },
    {
      "cell_type": "code",
      "source": [
        "# Feature importance\n",
        "feature_importances = model_xgb.feature_importances_\n",
        "feature_importances\n",
        "features = X.columns\n",
        "importance_df = pd.DataFrame({'Feature': features, 'Importance': feature_importances})\n",
        "importance_df.sort_values(by='Importance', ascending=False, inplace=True)\n",
        "sns.barplot(x='Importance', y='Feature', data=importance_df)\n"
      ],
      "metadata": {
        "colab": {
          "base_uri": "https://localhost:8080/",
          "height": 466
        },
        "id": "13tZUqzUAFF8",
        "outputId": "b03e0367-5fbb-406b-b7f0-50b7b2560029"
      },
      "execution_count": null,
      "outputs": [
        {
          "output_type": "execute_result",
          "data": {
            "text/plain": [
              "<Axes: xlabel='Importance', ylabel='Feature'>"
            ]
          },
          "metadata": {},
          "execution_count": 53
        },
        {
          "output_type": "display_data",
          "data": {
            "text/plain": [
              "<Figure size 640x480 with 1 Axes>"
            ],
            "image/png": "[encoded data removed]"
          },
          "metadata": {}
        }
      ]
    },
    {
      "cell_type": "markdown",
      "source": [
        "**DecissionTree**"
      ],
      "metadata": {
        "id": "WGlHCFdC6PGD"
      }
    },
    {
      "cell_type": "code",
      "source": [
        "# Initialize Decision Tree classifier\n",
        "model_dt = DecisionTreeClassifier(\n",
        "    max_depth=3,  # Maximum depth of the tree\n",
        "    min_samples_split=2,  # Minimum samples required to split an internal node\n",
        "    random_state=42\n",
        ")\n",
        "start_time = time.time()\n",
        "# Train the model\n",
        "model_dt.fit(X_train, y_train)\n",
        "\n",
        "# Predict on test data\n",
        "y_pred = model_dt.predict(X_test)\n",
        "\n",
        "# Evaluate model performance\n",
        "accuracy = accuracy_score(y_test, y_pred)\n",
        "print(f'Accuracy of Decision Tree Classifier: {accuracy:.4f}')\n",
        "\n",
        "# Print classification report for more detailed evaluation\n",
        "print('Classification Report:')\n",
        "print(classification_report(y_test, y_pred))\n",
        "# Calculate training time\n",
        "training_time = time.time() - start_time\n",
        "print(f'Training time: {training_time:.2f} seconds')\n",
        "\n",
        "\n",
        "# Save the model\n",
        "with open(f'DT.pkl', 'wb') as file:\n",
        "        pickle.dump(model_dt, file)\n",
        "\n",
        "end_time = time.time()\n",
        "print(f\" training and saving took {end_time - start_time:.2f} seconds\\n\")"
      ],
      "metadata": {
        "colab": {
          "base_uri": "https://localhost:8080/"
        },
        "id": "a5BCPnsGL9X0",
        "outputId": "82ba3844-c353-4d8b-9f98-34bb4426eae9"
      },
      "execution_count": null,
      "outputs": [
        {
          "output_type": "stream",
          "name": "stdout",
          "text": [
            "Accuracy of Decision Tree Classifier: 0.9556\n",
            "Classification Report:\n",
            "              precision    recall  f1-score   support\n",
            "\n",
            "           0       0.96      0.99      0.98    144806\n",
            "           1       0.67      0.37      0.48      8336\n",
            "\n",
            "    accuracy                           0.96    153142\n",
            "   macro avg       0.82      0.68      0.73    153142\n",
            "weighted avg       0.95      0.96      0.95    153142\n",
            "\n",
            "Training time: 1.34 seconds\n",
            " training and saving took 1.35 seconds\n",
            "\n"
          ]
        }
      ]
    },
    {
      "cell_type": "code",
      "source": [
        "from sklearn.metrics import confusion_matrix, classification_report, ConfusionMatrixDisplay\n",
        "import matplotlib.pyplot as plt\n",
        "cm = confusion_matrix(y_test, y_pred)\n",
        "disp = ConfusionMatrixDisplay(confusion_matrix=cm, display_labels=model_dt.classes_)\n",
        "disp.plot(cmap=plt.cm.Blues)\n",
        "plt.title('Confusion Matrix')\n",
        "plt.show()"
      ],
      "metadata": {
        "colab": {
          "base_uri": "https://localhost:8080/",
          "height": 472
        },
        "outputId": "00aa92a9-5464-44b9-bb51-98dc0235806f",
        "id": "ZZ6C_762ADY-"
      },
      "execution_count": null,
      "outputs": [
        {
          "output_type": "display_data",
          "data": {
            "text/plain": [
              "<Figure size 640x480 with 2 Axes>"
            ],
            "image/png": "[encoded data removed]"
          },
          "metadata": {}
        }
      ]
    },
    {
      "cell_type": "markdown",
      "source": [
        "4. Model Explanation and Key Drivers\n",
        "A. Feature Importance\n",
        "\n"
      ],
      "metadata": {
        "id": "GDKP1E6jADZF"
      }
    },
    {
      "cell_type": "code",
      "source": [
        "# Feature importance\n",
        "feature_importances = model_dt.feature_importances_\n",
        "feature_importances\n",
        "features = X.columns\n",
        "importance_df = pd.DataFrame({'Feature': features, 'Importance': feature_importances})\n",
        "importance_df.sort_values(by='Importance', ascending=False, inplace=True)\n",
        "sns.barplot(x='Importance', y='Feature', data=importance_df)\n"
      ],
      "metadata": {
        "colab": {
          "base_uri": "https://localhost:8080/",
          "height": 466
        },
        "id": "MZXv1kxXADZF",
        "outputId": "c5539e85-834d-42ad-a137-1e0ba80d166f"
      },
      "execution_count": null,
      "outputs": [
        {
          "output_type": "execute_result",
          "data": {
            "text/plain": [
              "<Axes: xlabel='Importance', ylabel='Feature'>"
            ]
          },
          "metadata": {},
          "execution_count": 56
        },
        {
          "output_type": "display_data",
          "data": {
            "text/plain": [
              "<Figure size 640x480 with 1 Axes>"
            ],
            "image/png": "[encoded data removed]"
          },
          "metadata": {}
        }
      ]
    },
    {
      "cell_type": "markdown",
      "source": [
        "**GradientBoosting**"
      ],
      "metadata": {
        "id": "VtTZg1C16S6V"
      }
    },
    {
      "cell_type": "code",
      "source": [
        "# Initialize Gradient Boosting classifier\n",
        "from sklearn.ensemble import GradientBoostingClassifier\n",
        "model_gbm = GradientBoostingClassifier(\n",
        "    n_estimators=100,  # Number of boosting stages\n",
        "    learning_rate=0.1,  # Shrinkage rate\n",
        "    max_depth=3,  # Maximum depth of individual trees\n",
        "    random_state=42\n",
        ")\n",
        "start_time = time.time()\n",
        "# Train the model\n",
        "model_gbm.fit(X_train, y_train)\n",
        "\n",
        "# Predict on test data\n",
        "y_pred = model_gbm.predict(X_test)\n",
        "\n",
        "# Evaluate model performance\n",
        "accuracy = accuracy_score(y_test, y_pred)\n",
        "print(f'Accuracy of Gradient Boosting Classifier: {accuracy:.4f}')\n",
        "\n",
        "# Print classification report for more detailed evaluation\n",
        "print('Classification Report:')\n",
        "print(classification_report(y_test, y_pred))\n",
        "# Calculate training time\n",
        "training_time = time.time() - start_time\n",
        "print(f'Training time: {training_time:.2f} seconds')\n",
        "\n",
        "# Save the model\n",
        "with open(f'GBM.pkl', 'wb') as file:\n",
        "        pickle.dump(model_gbm, file)\n",
        "\n",
        "end_time = time.time()\n",
        "print(f\" training and saving took {end_time - start_time:.2f} seconds\\n\")"
      ],
      "metadata": {
        "colab": {
          "base_uri": "https://localhost:8080/"
        },
        "id": "lGnRaqqeMAa0",
        "outputId": "2568fb57-ef92-49c0-bf75-5fc75282d01e"
      },
      "execution_count": null,
      "outputs": [
        {
          "output_type": "stream",
          "name": "stdout",
          "text": [
            "Accuracy of Gradient Boosting Classifier: 0.9607\n",
            "Classification Report:\n",
            "              precision    recall  f1-score   support\n",
            "\n",
            "           0       0.97      0.99      0.98    144806\n",
            "           1       0.71      0.48      0.57      8336\n",
            "\n",
            "    accuracy                           0.96    153142\n",
            "   macro avg       0.84      0.73      0.77    153142\n",
            "weighted avg       0.96      0.96      0.96    153142\n",
            "\n",
            "Training time: 111.26 seconds\n",
            " training and saving took 111.27 seconds\n",
            "\n"
          ]
        }
      ]
    },
    {
      "cell_type": "code",
      "source": [
        "from sklearn.metrics import confusion_matrix, classification_report, ConfusionMatrixDisplay\n",
        "import matplotlib.pyplot as plt\n",
        "cm = confusion_matrix(y_test, y_pred)\n",
        "disp = ConfusionMatrixDisplay(confusion_matrix=cm, display_labels=model_gbm.classes_)\n",
        "disp.plot(cmap=plt.cm.Blues)\n",
        "plt.title('Confusion Matrix')\n",
        "plt.show()"
      ],
      "metadata": {
        "colab": {
          "base_uri": "https://localhost:8080/",
          "height": 472
        },
        "id": "41Rq6N5J8RCT",
        "outputId": "729d8f8d-e704-403c-e0f0-76529b39475a"
      },
      "execution_count": null,
      "outputs": [
        {
          "output_type": "display_data",
          "data": {
            "text/plain": [
              "<Figure size 640x480 with 2 Axes>"
            ],
            "image/png": "[encoded data removed]"
          },
          "metadata": {}
        }
      ]
    },
    {
      "cell_type": "markdown",
      "source": [
        "4. Model Explanation and Key Drivers\n",
        "A. Feature Importance\n",
        "\n"
      ],
      "metadata": {
        "id": "fyrfHoHaj8W8"
      }
    },
    {
      "cell_type": "code",
      "source": [
        "# Feature importance\n",
        "feature_importances = model_gbm.feature_importances_\n",
        "feature_importances\n",
        "features = X.columns\n",
        "importance_df = pd.DataFrame({'Feature': features, 'Importance': feature_importances})\n",
        "importance_df.sort_values(by='Importance', ascending=False, inplace=True)\n",
        "sns.barplot(x='Importance', y='Feature', data=importance_df)\n"
      ],
      "metadata": {
        "colab": {
          "base_uri": "https://localhost:8080/",
          "height": 466
        },
        "id": "LErSDFPD_1bE",
        "outputId": "f689b94d-9c6e-4232-fcef-bd54edfe7295"
      },
      "execution_count": null,
      "outputs": [
        {
          "output_type": "execute_result",
          "data": {
            "text/plain": [
              "<Axes: xlabel='Importance', ylabel='Feature'>"
            ]
          },
          "metadata": {},
          "execution_count": 59
        },
        {
          "output_type": "display_data",
          "data": {
            "text/plain": [
              "<Figure size 640x480 with 1 Axes>"
            ],
            "image/png": "[encoded data removed]"
          },
          "metadata": {}
        }
      ]
    },
    {
      "cell_type": "markdown",
      "source": [
        "**Evaluation**"
      ],
      "metadata": {
        "id": "LYr1S_6TFya_"
      }
    },
    {
      "cell_type": "markdown",
      "source": [
        "![image.png](data:image/png;base64,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)"
      ],
      "metadata": {
        "id": "usTKGfH7FqoO"
      }
    },
    {
      "cell_type": "markdown",
      "source": [
        "From the above table we can infer that Random forest has the best accuracy accross the tested models and also has a far better recall rate for Class(1) so our final model would be **RandomForest**"
      ],
      "metadata": {
        "id": "77NcoA1nF6yv"
      }
    },
    {
      "cell_type": "markdown",
      "source": [
        "**Questions**"
      ],
      "metadata": {
        "id": "o9G0tzf0RD5e"
      }
    },
    {
      "cell_type": "markdown",
      "source": [
        "**1: Explanation of the Final Model and Approach:**"
      ],
      "metadata": {
        "id": "rkPEkOY1Kyqp"
      }
    },
    {
      "cell_type": "markdown",
      "source": [
        "Model Selection:\n",
        "The final model used for predicting the propensity to purchase is Random Forest (RF) as Random forest has the best accuracy accross the tested models and also has a far better recall rate for Class(1) so our final model would be RandomForest"
      ],
      "metadata": {
        "id": "4xAqYD3RK9t0"
      }
    },
    {
      "cell_type": "markdown",
      "source": [
        "**2: Key Drivers for Propensity to Purchase:**"
      ],
      "metadata": {
        "id": "lgzVeWg3LQQD"
      }
    },
    {
      "cell_type": "markdown",
      "source": [
        "Based on the model analysis and feature importance:\n",
        "\n",
        "1.   TotalHits\n",
        "2.   ProductPagesViewed\n",
        "3.   TotalTimeOnSite\n",
        "4.   TotalPageview\n",
        "\n",
        "These variables are strong indicators of interest in products/services, larger the counts(i.e hits,TimeSpent,TotalPageviewed) better the chances of Propensity to Purchase."
      ],
      "metadata": {
        "id": "tAfKf7ePLVVE"
      }
    },
    {
      "cell_type": "markdown",
      "source": [
        "**3: Recommendations to the Client and Utilization of the Model:**"
      ],
      "metadata": {
        "id": "cwWrHVcDNDbK"
      }
    },
    {
      "cell_type": "markdown",
      "source": [
        "Based on the model exploration following reccomendations would be suggested\n",
        "\n",
        "1.   To improve on the contents of webpages to increase the user engagement time spent on pages more and also encourage the users to explore more pages. These factors indicate that there is a high chance that these factors drives the propensity to purchase.\n",
        "2.   Model can be used to check the propensity to purchase accross various marketing strategies in order to implement different marketing campaigns.\n",
        "3. Models can be leveraged to address the clients goals for 2024 such as increasing conversion rates and improving customer retention to drive revenue growth.\n",
        "\n"
      ],
      "metadata": {
        "id": "a0AU80tYNc79"
      }
    },
    {
      "cell_type": "markdown",
      "source": [
        "**4: Improvement / Challenges**\n",
        "\n",
        "*Challenges*\n",
        "As the given dataset provided was pretty imbalanced with majority of the records being 0 compare to 1,\n",
        "To improve the imbalance, we can apply various techniques such as\n",
        "\n",
        "1.   Oversampling the minority class\n",
        "2.   Undersampling the majority\n",
        "3. Applying synthetic data to create synthetic data for class1 for solving the imbalance issue\n",
        "4. Address the Data quality - Few columns had too many distinct values and had a lots of data quality issues.\n",
        "\n",
        "*ModelTuning*\n",
        "\n",
        "1.   Fine tune model parameters and thresholds to improve precission and recall\n",
        "2.   Implement advanced ensemble techniques to combine model outputs more effectively.\n",
        "\n",
        "\n"
      ],
      "metadata": {
        "id": "bpMZkPoEE4GH"
      }
    },
    {
      "cell_type": "markdown",
      "source": [
        "**END**"
      ],
      "metadata": {
        "id": "_l_hNN_aMTg_"
      }
    }
  ]
}