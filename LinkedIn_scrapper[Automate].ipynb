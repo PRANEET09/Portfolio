{
  "nbformat": 4,
  "nbformat_minor": 0,
  "metadata": {
    "kernelspec": {
      "display_name": "Python 3",
      "language": "python",
      "name": "python3"
    },
    "language_info": {
      "codemirror_mode": {
        "name": "ipython",
        "version": 3
      },
      "file_extension": ".py",
      "mimetype": "text/x-python",
      "name": "python",
      "nbconvert_exporter": "python",
      "pygments_lexer": "ipython3",
      "version": "3.7.4"
    },
    "colab": {
      "provenance": [],
      "include_colab_link": true
    }
  },
  "cells": [
    {
      "cell_type": "markdown",
      "metadata": {
        "id": "view-in-github",
        "colab_type": "text"
      },
      "source": [
        "<a href=\"https://colab.research.google.com/github/PRANEET09/Portfolio/blob/main/LinkedIn_scrapper%5BAutomate%5D.ipynb\" target=\"_parent\"><img src=\"https://colab.research.google.com/assets/colab-badge.svg\" alt=\"Open In Colab\"/></a>"
      ]
    },
    {
      "cell_type": "code",
      "metadata": {
        "id": "eGOSCzeCXfzp"
      },
      "source": [
        "!pip install selenium\n",
        "!apt-get update # to update ubuntu to correctly run apt install\n",
        "!apt install chromium-chromedriver\n",
        "!cp /usr/lib/chromium-browser/chromedriver /usr/bin"
      ],
      "execution_count": null,
      "outputs": []
    },
    {
      "cell_type": "code",
      "metadata": {
        "id": "N-nCU6xzXq5C"
      },
      "source": [
        "import sys\n",
        "sys.path.insert(0,'/usr/lib/chromium-browser/chromedriver')"
      ],
      "execution_count": null,
      "outputs": []
    },
    {
      "cell_type": "code",
      "metadata": {
        "id": "cfqOcXAWYFY6"
      },
      "source": [
        "from selenium import webdriver\n",
        "options = webdriver.ChromeOptions()\n",
        "options.add_argument('--headless')\n",
        "options.add_argument('--no-sandbox')\n",
        "options.add_argument('--disable-dev-shm-usage')\n",
        "wd = webdriver.Chrome('chromedriver',options=options)\n",
        "wd.get(\"https://www.linkedin.com/uas/login\")"
      ],
      "execution_count": null,
      "outputs": []
    },
    {
      "cell_type": "code",
      "metadata": {
        "id": "om1Y9q40YO1E",
        "colab": {
          "base_uri": "https://localhost:8080/",
          "height": 55
        },
        "outputId": "a9ad3e8b-4e5c-4557-a6d8-206f906ac232"
      },
      "source": [
        "wd.get(\"https://www.linkedin.com/uas/login\")\n",
        "print(wd.page_source)"
      ],
      "execution_count": null,
      "outputs": [
        {
          "output_type": "stream",
          "text": [
            "<html lang=\"en-US\" class=\"artdeco \"><head><meta http-equiv=\"X-UA-Compatible\" content=\"IE=EDGE\"><meta charset=\"UTF-8\"><meta name=\"viewport\" content=\"width=device-width, initial-scale=1\"><meta name=\"asset-url\" id=\"artdeco/static/images/icons.svg\" content=\"https://static-exp1.licdn.com/sc/h/br/6bja66gymvrvqrp5m6btz3vkz\"><title>LinkedIn Login, Sign in | LinkedIn</title><link rel=\"shortcut icon\" href=\"https://static-exp1.licdn.com/sc/h/br/9lb1g1kp916tat669q9r5g2kz\"><link rel=\"apple-touch-icon\" href=\"https://static-exp1.licdn.com/sc/h/br/1exdo4axa6eaw1jioxh1vu4fj\"><link rel=\"apple-touch-icon-precomposed\" href=\"https://static-exp1.licdn.com/sc/h/br/55ggxxse8uyjdh2x78ht3j40q\"><link rel=\"apple-touch-icon-precomposed\" sizes=\"57x57\" href=\"https://static-exp1.licdn.com/sc/h/br/1exdo4axa6eaw1jioxh1vu4fj\"><link rel=\"apple-touch-icon-precomposed\" sizes=\"144x144\" href=\"https://static-exp1.licdn.com/sc/h/br/55ggxxse8uyjdh2x78ht3j40q\"><meta name=\"treeID\" content=\"i20yJYnGFhYghY4wdSsAAA==\"><meta name=\"pageKey\" content=\"d_checkpoint_lg_consumerLogin\"><meta name=\"pageInstance\" content=\"urn:li:page:d_checkpoint_lg_consumerLogin;sQZStQqFSQ2kLaw3wH/E8g==\"><meta name=\"appName\" content=\"checkpoint-frontend\"> <meta name=\"description\" content=\"Login to LinkedIn to keep in touch with people you know, share ideas, and build your career.\"><meta name=\"robots\" content=\"noarchive\"><meta property=\"og:site_name\" content=\"LinkedIn\"><meta property=\"og:title\" content=\"LinkedIn Login, Sign in | LinkedIn\"><meta property=\"og:description\" content=\"Login to LinkedIn to keep in touch with people you know, share ideas, and build your career.\"><meta property=\"og:type\" content=\"website\"><meta property=\"og:url\" content=\"https://www.linkedin.com/\"><meta property=\"og:image\" content=\"https://static.licdn.com/scds/common/u/images/logos/favicons/v1/favicon.ico\"><meta name=\"twitter:card\" content=\"summary\"><meta name=\"twitter:site\" content=\"@linkedin\"><meta name=\"twitter:title\" content=\"LinkedIn Login, Sign in | LinkedIn\"><meta name=\"twitter:description\" content=\"Login to LinkedIn to keep in touch with people you know, share ideas, and build your career.\"><link rel=\"stylesheet\" href=\"https://static-exp1.licdn.com/sc/p/com.linkedin.checkpoint%3Acheckpoint-static-content%2B2.2.275/f/%2Fcheckpoint-frontend%2Fstylesheets%2Flogin%2Forganic%2Fdesktop_en_US.css\"><link rel=\"canonical\" href=\"https://www.linkedin.com/login\"><link rel=\"preload\" href=\"https://static-exp1.licdn.com/sc/h/br/5ue4cqc99h50m1f2ei251i0j7\" as=\"script\"><link rel=\"preload\" href=\"https://static-exp1.licdn.com/sc/h/br/dhmxlfud9335e41e7qp04mh48\" as=\"script\"><link rel=\"preload\" href=\"https://static-exp1.licdn.com/sc/h/br/evgvi1ia16cruy7mpyxpr1e0s\" as=\"script\"></head><body class=\"system-fonts \"><div id=\"app__container\"><header><div class=\"nav__base\"></div></header><main class=\"app__content\" role=\"main\"><div data-litms-pageview=\"true\"></div><div id=\"\" class=\"\"><div class=\"header__logo\" aria-hidden=\"true\"><h2 class=\"in__logo\">LinkedIn</h2><li-icon aria-hidden=\"true\" type=\"linkedin-logo\" alt=\"LinkedIn\" size=\"21dp\" color=\"brand\"><svg preserveAspectRatio=\"xMinYMin meet\" focusable=\"false\"><g class=\"scaling-icon\" style=\"fill-opacity: 1\"><defs></defs><g class=\"logo-21dp\"><g class=\"dpi-1\"><g class=\"inbug\" stroke=\"none\" stroke-width=\"1\" fill=\"none\" fill-rule=\"evenodd\"><path d=\"M19.479,0 L1.583,0 C0.727,0 0,0.677 0,1.511 L0,19.488 C0,20.323 0.477,21 1.333,21 L19.229,21 C20.086,21 21,20.323 21,19.488 L21,1.511 C21,0.677 20.336,0 19.479,0\" class=\"bug-text-color\" fill=\"#FFFFFF\" transform=\"translate(63.000000, 0.000000)\"></path><path d=\"M82.479,0 L64.583,0 C63.727,0 63,0.677 63,1.511 L63,19.488 C63,20.323 63.477,21 64.333,21 L82.229,21 C83.086,21 84,20.323 84,19.488 L84,1.511 C84,0.677 83.336,0 82.479,0 Z M71,8 L73.827,8 L73.827,9.441 L73.858,9.441 C74.289,8.664 75.562,7.875 77.136,7.875 C80.157,7.875 81,9.479 81,12.45 L81,18 L78,18 L78,12.997 C78,11.667 77.469,10.5 76.227,10.5 C74.719,10.5 74,11.521 74,13.197 L74,18 L71,18 L71,8 Z M66,18 L69,18 L69,8 L66,8 L66,18 Z M69.375,4.5 C69.375,5.536 68.536,6.375 67.5,6.375 C66.464,6.375 65.625,5.536 65.625,4.5 C65.625,3.464 66.464,2.625 67.5,2.625 C68.536,2.625 69.375,3.464 69.375,4.5 Z\" class=\"background\" fill=\"#0073B0\"></path></g><g class=\"linkedin-text\"><path d=\"M60,18 L57.2,18 L57.2,16.809 L57.17,16.809 C56.547,17.531 55.465,18.125 53.631,18.125 C51.131,18.125 48.978,16.244 48.978,13.011 C48.978,9.931 51.1,7.875 53.725,7.875 C55.35,7.875 56.359,8.453 56.97,9.191 L57,9.191 L57,3 L60,3 L60,18 Z M54.479,10.125 C52.764,10.125 51.8,11.348 51.8,12.974 C51.8,14.601 52.764,15.875 54.479,15.875 C56.196,15.875 57.2,14.634 57.2,12.974 C57.2,11.268 56.196,10.125 54.479,10.125 L54.479,10.125 Z\" fill=\"#000000\"></path><path d=\"M47.6611,16.3889 C46.9531,17.3059 45.4951,18.1249 43.1411,18.1249 C40.0001,18.1249 38.0001,16.0459 38.0001,12.7779 C38.0001,9.8749 39.8121,7.8749 43.2291,7.8749 C46.1801,7.8749 48.0001,9.8129 48.0001,13.2219 C48.0001,13.5629 47.9451,13.8999 47.9451,13.8999 L40.8311,13.8999 L40.8481,14.2089 C41.0451,15.0709 41.6961,16.1249 43.1901,16.1249 C44.4941,16.1249 45.3881,15.4239 45.7921,14.8749 L47.6611,16.3889 Z M45.1131,11.9999 C45.1331,10.9449 44.3591,9.8749 43.1391,9.8749 C41.6871,9.8749 40.9121,11.0089 40.8311,11.9999 L45.1131,11.9999 Z\" fill=\"#000000\"></path><polygon fill=\"#000000\" points=\"38 8 34.5 8 31 12 31 3 28 3 28 18 31 18 31 13 34.699 18 38.241 18 34 12.533\"></polygon><path d=\"M16,8 L18.827,8 L18.827,9.441 L18.858,9.441 C19.289,8.664 20.562,7.875 22.136,7.875 C25.157,7.875 26,9.792 26,12.45 L26,18 L23,18 L23,12.997 C23,11.525 22.469,10.5 21.227,10.5 C19.719,10.5 19,11.694 19,13.197 L19,18 L16,18 L16,8 Z\" fill=\"#000000\"></path><path d=\"M11,18 L14,18 L14,8 L11,8 L11,18 Z M12.501,6.3 C13.495,6.3 14.3,5.494 14.3,4.5 C14.3,3.506 13.495,2.7 12.501,2.7 C11.508,2.7 10.7,3.506 10.7,4.5 C10.7,5.494 11.508,6.3 12.501,6.3 Z\" fill=\"#000000\"></path><polygon fill=\"#000000\" points=\"3 3 0 3 0 18 9 18 9 15 3 15\"></polygon></g></g><g class=\"dpi-gt1\" transform=\"scale(0.4375)\"><g class=\"inbug\" stroke=\"none\" stroke-width=\"1\" fill=\"none\" fill-rule=\"evenodd\"><path d=\"M44.5235,0 L3.6185,0 C1.6625,0 0.0005,1.547 0.0005,3.454 L0.0005,44.545 C0.0005,46.452 1.6625,48 3.6185,48 L44.5235,48 C46.4825,48 48.0005,46.452 48.0005,44.545 L48.0005,3.454 C48.0005,1.547 46.4825,0 44.5235,0\" class=\"bug-text-color\" fill=\"#FFFFFF\" transform=\"translate(143.000000, 0.000000)\"></path><path d=\"M187.5235,0 L146.6185,0 C144.6625,0 143.0005,1.547 143.0005,3.454 L143.0005,44.545 C143.0005,46.452 144.6625,48 146.6185,48 L187.5235,48 C189.4825,48 191.0005,46.452 191.0005,44.545 L191.0005,3.454 C191.0005,1.547 189.4825,0 187.5235,0 Z M162,18 L168.5,18 L168.5,21.266 C169.437,19.388 171.838,17.7 175.445,17.7 C182.359,17.7 184,21.438 184,28.297 L184,41 L177,41 L177,29.859 C177,25.953 176.063,23.75 173.68,23.75 C170.375,23.75 169,26.125 169,29.859 L169,41 L162,41 L162,18 Z M150,41 L157,41 L157,18 L150,18 L150,41 Z M158,10.5 C158,12.985 155.985,15 153.5,15 C151.015,15 149,12.985 149,10.5 C149,8.015 151.015,6 153.5,6 C155.985,6 158,8.015 158,10.5 Z\" class=\"background\" fill=\"#0073B0\"></path></g><g class=\"linkedin-text\"><path d=\"M136,41 L130,41 L130,37.5 C128.908,39.162 125.727,41.3 122.5,41.3 C115.668,41.3 111.2,36.975 111.2,30 C111.2,23.594 114.951,17.7 121.5,17.7 C124.441,17.7 127.388,18.272 129,20.5 L129,7 L136,7 L136,41 Z M123.25,23.9 C119.691,23.9 117.9,26.037 117.9,29.5 C117.9,32.964 119.691,35.2 123.25,35.2 C126.81,35.2 129.1,32.964 129.1,29.5 C129.1,26.037 126.81,23.9 123.25,23.9 L123.25,23.9 Z\" fill=\"#000000\"></path><path d=\"M108,37.125 C105.722,40.02 101.156,41.3 96.75,41.3 C89.633,41.3 85.2,36.354 85.2,29 C85.2,21.645 90.5,17.7 97.75,17.7 C103.75,17.7 108.8,21.917 108.8,30 C108.8,31.25 108.6,32 108.6,32 L92,32 L92.111,32.67 C92.51,34.873 94.873,36 97.625,36 C99.949,36 101.689,34.988 102.875,33.375 L108,37.125 Z M101.75,27 C101.797,24.627 99.89,22.7 97.328,22.7 C94.195,22.7 92.189,24.77 92,27 L101.75,27 Z\" fill=\"#000000\"></path><polygon fill=\"#000000\" points=\"63 7 70 7 70 27 78 18 86.75 18 77 28.5 86.375 41 78 41 70 30 70 41 63 41\"></polygon><path d=\"M37,18 L43,18 L43,21.375 C43.947,19.572 47.037,17.7 50.5,17.7 C57.713,17.7 59,21.957 59,28.125 L59,41 L52,41 L52,29.625 C52,26.969 52.152,23.8 48.5,23.8 C44.8,23.8 44,26.636 44,29.625 L44,41 L37,41 L37,18 Z\" fill=\"#000000\"></path><path d=\"M29.5,6.125 C31.813,6.125 33.875,8.189 33.875,10.5 C33.875,12.811 31.813,14.875 29.5,14.875 C27.19,14.875 25.125,12.811 25.125,10.5 C25.125,8.189 27.19,6.125 29.5,6.125 L29.5,6.125 Z M26,41 L33,41 L33,18 L26,18 L26,41 Z\" fill=\"#000000\"></path><polygon fill=\"#000000\" points=\"0 7 7 7 7 34 22 34 22 41 0 41\"></polygon></g></g></g></g></svg></li-icon><mark class=\"normal-badge hidden\"><abbr title=\"You have unseen notifications\" role=\"alert\"></abbr></mark></div><div class=\"header__content \"><h1 class=\"header__content__heading\">Welcome Back</h1><p class=\"header__content__subheading \">Don't miss your next opportunity. Sign in to stay updated on your professional world.</p></div><form method=\"post\" class=\"login__form\" action=\"/checkpoint/lg/login-submit\" novalidate=\"\"><input type=\"hidden\" name=\"csrfToken\" value=\"ajax:7664455869058892736\"><code id=\"login_form_validation_error_username\" style=\"display: none;\"><!--\"Please enter a valid username\"--></code><code id=\"consumer_login__text_plain__invalid_username\" style=\"display: none;\"><!--\"Hmm, we don&#39;t recognize that email. Please try again.\"--></code><code id=\"consumer_login__text_plain__large_username\" style=\"display: none;\"><!--\"Email or phone number must be between 3 to 128 characters\"--></code><code id=\"consumer_login__text_plain__invalid_username_with_phone_v2\" style=\"display: none;\"><!--\"Hmm, we don’t recognize that phone number. Please try again\"--></code><code id=\"consumer_login__text_plain__no_username\" style=\"display: none;\"><!--\"Please enter an email address or phone number\"--></code><div class=\"form__input--floating\"><input id=\"username\" name=\"session_key\" type=\"text\" aria-describedby=\"error-for-username\" required=\"\" validation=\"email|tel\" autofocus=\"\" aria-label=\"Email or Phone\"><label class=\"form__label--floating\" for=\"username\" aria-hidden=\"true\">Email or Phone</label><div error-for=\"username\" id=\"error-for-username\" class=\"form__label--error  hidden\" role=\"alert\" aria-live=\"assertive\"></div></div><code id=\"domainSuggestion\" style=\"display: none;\"><!--false--></code><input type=\"hidden\" name=\"ac\" value=\"0\"><input type=\"hidden\" name=\"sIdString\" value=\"436673f0-b77a-4b64-9b69-e8ad4cad345b\"><input type=\"hidden\" name=\"parentPageKey\" value=\"d_checkpoint_lg_consumerLogin\"><input type=\"hidden\" name=\"pageInstance\" value=\"urn:li:page:d_checkpoint_lg_consumerLogin;sQZStQqFSQ2kLaw3wH/E8g==\"><input type=\"hidden\" name=\"trk\" value=\"\"><input type=\"hidden\" name=\"authUUID\" value=\"\"><input type=\"hidden\" name=\"session_redirect\" value=\"\"><input type=\"hidden\" name=\"loginCsrfParam\" value=\"26747f09-f47c-4892-8021-e1eff2a193de\"><input type=\"hidden\" name=\"fp_data\" value=\"default\" id=\"fp_data_login\"><input type=\"hidden\" name=\"apfc\" value=\"{}\" id=\"apfc-login\"><input type=\"hidden\" name=\"_d\" value=\"d\"><input type=\"hidden\" name=\"showGoogleOneTapLogin\" value=\"true\"><code id=\"i18nShow\" style=\"display: none;\"><!--\"Show\"--></code><code id=\"i18nHide\" style=\"display: none;\"><!--\"Hide\"--></code><input type=\"hidden\" name=\"controlId\" value=\"d_checkpoint_lg_consumerLogin-login_submit_button\"><code id=\"consumer_login__text_plain__empty_password\" style=\"display: none;\"><!--\"Please enter a password.\"--></code><code id=\"consumer_login__text_plain__small_password\" style=\"display: none;\"><!--\"The password you provided must have at least 6 characters.\"--></code><code id=\"consumer_login__text_plain__large_password\" style=\"display: none;\"><!--\"The password you provided must have at most 400 characters.\"--></code><code id=\"consumer_login__text_plain__wrong_password\" style=\"display: none;\"><!--\"Hmm, that&#39;s not the right password. Please try again \"--></code><code id=\"consumer_login__text_plain__large_password_200_chars\" style=\"display: none;\"><!--\"The password you provided must have at most 200 characters.\"--></code><code id=\"lix_checkpoint_request_evaluate_password\" style=\"display: none;\"><!--\"enabled\"--></code><div class=\"form__input--floating\"><input id=\"password\" type=\"password\" aria-describedby=\"error-for-password\" name=\"session_password\" required=\"\" validation=\"password\" aria-label=\"Password\"><label for=\"password\" class=\"form__label--floating\" aria-hidden=\"true\">Password</label><div error-for=\"password\" id=\"error-for-password\" class=\"form__label--error  hidden\" role=\"alert\" aria-live=\"assertive\"></div><span id=\"password-visibility-toggle\" class=\"button__password-visibility\" role=\"button\" tabindex=\"0\">Show</span></div><div class=\"login__form_action_container \"><button class=\"btn__primary--large from__button--floating\" data-litms-control-urn=\"login-submit\" type=\"submit\" aria-label=\"Sign in\">Sign in</button></div></form><div class=\"footer-app-content-actions\"><div><a href=\"/checkpoint/rp/request-password-reset\" class=\"btn__tertiary--medium action__btn\">Forgot password?</a></div><p>New to LinkedIn? <a href=\"/signup/cold-join\" tabindex=\"0\" id=\"join_now\" data-litms-control-urn=\"login_join_now\">Join now</a></p></div></div></main><footer class=\"footer__base\" role=\"contentinfo\"><div class=\"footer__base__wrapper\"><p class=\"copyright\"><li-icon type=\"linkedin-logo\" size=\"14dp\" alt=\"LinkedIn\" color=\"\" aria-hidden=\"true\"><svg preserveAspectRatio=\"xMinYMin meet\" focusable=\"false\"><g class=\"scaling-icon\" style=\"fill-opacity: 1\"><defs></defs><g class=\"logo-14dp\"><g class=\"dpi-1\"><g class=\"inbug\" stroke=\"none\" stroke-width=\"1\" fill=\"none\" fill-rule=\"evenodd\"><path d=\"M14,1.25 L14,12.75 C14,13.44 13.44,14 12.75,14 L1.25,14 C0.56,14 0,13.44 0,12.75 L0,1.25 C0,0.56 0.56,0 1.25,0 L12.75,0 C13.44,0 14,0.56 14,1.25\" class=\"bug-text-color\" fill=\"#FFFFFF\" transform=\"translate(42.000000, 0.000000)\"></path><path d=\"M56,1.25 L56,12.75 C56,13.44 55.44,14 54.75,14 L43.25,14 C42.56,14 42,13.44 42,12.75 L42,1.25 C42,0.56 42.56,0 43.25,0 L54.75,0 C55.44,0 56,0.56 56,1.25 Z M47,5 L48.85,5 L48.85,6.016 L48.893,6.016 C49.259,5.541 50.018,4.938 51.25,4.938 C53.125,4.938 54,5.808 54,8 L54,12 L52,12 L52,8.75 C52,7.313 51.672,6.875 50.632,6.875 C49.5,6.875 49,7.75 49,9 L49,12 L47,12 L47,5 Z M44,12 L46,12 L46,5 L44,5 L44,12 Z M46.335,3 C46.335,3.737 45.737,4.335 45,4.335 C44.263,4.335 43.665,3.737 43.665,3 C43.665,2.263 44.263,1.665 45,1.665 C45.737,1.665 46.335,2.263 46.335,3 Z\" class=\"background\" fill=\"#0073B0\"></path></g><g class=\"linkedin-text\"><path d=\"M40,12 L38.107,12 L38.107,11.1 L38.077,11.1 C37.847,11.518 37.125,12.062 36.167,12.062 C34.174,12.062 33,10.521 33,8.5 C33,6.479 34.291,4.938 36.2,4.938 C36.971,4.938 37.687,5.332 37.97,5.698 L38,5.698 L38,2 L40,2 L40,12 Z M36.475,6.75 C35.517,6.75 34.875,7.49 34.875,8.5 C34.875,9.51 35.529,10.25 36.475,10.25 C37.422,10.25 38.125,9.609 38.125,8.5 C38.125,7.406 37.433,6.75 36.475,6.75 L36.475,6.75 Z\" fill=\"#000000\"></path><path d=\"M31.7628,10.8217 C31.0968,11.5887 29.9308,12.0627 28.4998,12.0627 C26.3388,12.0627 24.9998,10.6867 24.9998,8.4477 C24.9998,6.3937 26.4328,4.9377 28.6578,4.9377 C30.6758,4.9377 31.9998,6.3497 31.9998,8.6527 C31.9998,8.8457 31.9708,8.9997 31.9708,8.9997 L26.8228,8.9997 L26.8348,9.1487 C26.9538,9.8197 27.6008,10.5797 28.6358,10.5797 C29.6528,10.5797 30.2068,10.1567 30.4718,9.8587 L31.7628,10.8217 Z M30.2268,7.9047 C30.2268,7.0627 29.5848,6.4297 28.6508,6.4297 C27.6058,6.4297 26.9368,7.0597 26.8728,7.9047 L30.2268,7.9047 Z\" fill=\"#000000\"></path><polygon fill=\"#000000\" points=\"18 2 20 2 20 7.882 22.546 5 25 5 21.9 8.199 24.889 12 22.546 12 20 8.515 20 12 18 12\"></polygon><path d=\"M10,5 L11.85,5 L11.85,5.906 L11.893,5.906 C12.283,5.434 13.031,4.938 14.14,4.938 C16.266,4.938 17,6.094 17,8.285 L17,12 L15,12 L15,8.73 C15,7.943 14.821,6.75 13.659,6.75 C12.482,6.75 12,7.844 12,8.73 L12,12 L10,12 L10,5 Z\" fill=\"#000000\"></path><path d=\"M7,12 L9,12 L9,5 L7,5 L7,12 Z M8,1.75 C8.659,1.75 9.25,2.341 9.25,3 C9.25,3.659 8.659,4.25 8,4.25 C7.34,4.25 6.75,3.659 6.75,3 C6.75,2.341 7.34,1.75 8,1.75 L8,1.75 Z\" fill=\"#000000\"></path><polygon fill=\"#000000\" points=\"0 2 2 2 2 10 6 10 6 12 0 12\"></polygon></g></g><g class=\"dpi-gt1\" transform=\"scale(0.2917)\"><g class=\"inbug\" stroke=\"none\" stroke-width=\"1\" fill=\"none\" fill-rule=\"evenodd\"><path d=\"M44.5235,0 L3.6185,0 C1.6625,0 0.0005,1.547 0.0005,3.454 L0.0005,44.545 C0.0005,46.452 1.6625,48 3.6185,48 L44.5235,48 C46.4825,48 48.0005,46.452 48.0005,44.545 L48.0005,3.454 C48.0005,1.547 46.4825,0 44.5235,0\" class=\"bug-text-color\" fill=\"#FFFFFF\" transform=\"translate(143.000000, 0.000000)\"></path><path d=\"M187.5235,0 L146.6185,0 C144.6625,0 143.0005,1.547 143.0005,3.454 L143.0005,44.545 C143.0005,46.452 144.6625,48 146.6185,48 L187.5235,48 C189.4825,48 191.0005,46.452 191.0005,44.545 L191.0005,3.454 C191.0005,1.547 189.4825,0 187.5235,0 Z M162,18 L168.5,18 L168.5,21.266 C169.437,19.388 171.838,17.7 175.445,17.7 C182.359,17.7 184,21.438 184,28.297 L184,41 L177,41 L177,29.859 C177,25.953 176.063,23.75 173.68,23.75 C170.375,23.75 169,26.125 169,29.859 L169,41 L162,41 L162,18 Z M150,41 L157,41 L157,18 L150,18 L150,41 Z M158,10.5 C158,12.985 155.985,15 153.5,15 C151.015,15 149,12.985 149,10.5 C149,8.015 151.015,6 153.5,6 C155.985,6 158,8.015 158,10.5 Z\" class=\"background\" fill=\"#0073B0\"></path></g><g class=\"linkedin-text\"><path d=\"M136,41 L130,41 L130,37.5 C128.908,39.162 125.727,41.3 122.5,41.3 C115.668,41.3 111.2,36.975 111.2,30 C111.2,23.594 114.951,17.7 121.5,17.7 C124.441,17.7 127.388,18.272 129,20.5 L129,7 L136,7 L136,41 Z M123.25,23.9 C119.691,23.9 117.9,26.037 117.9,29.5 C117.9,32.964 119.691,35.2 123.25,35.2 C126.81,35.2 129.1,32.964 129.1,29.5 C129.1,26.037 126.81,23.9 123.25,23.9 L123.25,23.9 Z\" fill=\"#000000\"></path><path d=\"M108,37.125 C105.722,40.02 101.156,41.3 96.75,41.3 C89.633,41.3 85.2,36.354 85.2,29 C85.2,21.645 90.5,17.7 97.75,17.7 C103.75,17.7 108.8,21.917 108.8,30 C108.8,31.25 108.6,32 108.6,32 L92,32 L92.111,32.67 C92.51,34.873 94.873,36 97.625,36 C99.949,36 101.689,34.988 102.875,33.375 L108,37.125 Z M101.75,27 C101.797,24.627 99.89,22.7 97.328,22.7 C94.195,22.7 92.189,24.77 92,27 L101.75,27 Z\" fill=\"#000000\"></path><polygon fill=\"#000000\" points=\"63 7 70 7 70 27 78 18 86.75 18 77 28.5 86.375 41 78 41 70 30 70 41 63 41\"></polygon><path d=\"M37,18 L43,18 L43,21.375 C43.947,19.572 47.037,17.7 50.5,17.7 C57.713,17.7 59,21.957 59,28.125 L59,41 L52,41 L52,29.625 C52,26.969 52.152,23.8 48.5,23.8 C44.8,23.8 44,26.636 44,29.625 L44,41 L37,41 L37,18 Z\" fill=\"#000000\"></path><path d=\"M29.5,6.125 C31.813,6.125 33.875,8.189 33.875,10.5 C33.875,12.811 31.813,14.875 29.5,14.875 C27.19,14.875 25.125,12.811 25.125,10.5 C25.125,8.189 27.19,6.125 29.5,6.125 L29.5,6.125 Z M26,41 L33,41 L33,18 L26,18 L26,41 Z\" fill=\"#000000\"></path><polygon fill=\"#000000\" points=\"0 7 7 7 7 34 22 34 22 41 0 41\"></polygon></g></g></g></g></svg></li-icon><em><span class=\"a11y__label\">LinkedIn</span>© 2020</em></p><div><ul class=\"footer__base__nav-list\" aria-label=\"Footer Legal Menu\"><li><a href=\"/legal/user-agreement?trk=d_checkpoint_lg_consumerLogin_ft_user_agreement\">User Agreement</a></li><li><a href=\"/legal/privacy-policy?trk=d_checkpoint_lg_consumerLogin_ft_privacy_policy\">Privacy Policy</a></li><li><a href=\"https://linkedin.com/help/linkedin/answer/34593?lang=en&amp;trk=d_checkpoint_lg_consumerLogin_ft_community_guidelines\">Community Guidelines</a></li><li><a href=\"/legal/cookie-policy?trk=d_checkpoint_lg_consumerLogin_ft_cookie_policy\">Cookie Policy</a></li><li><a href=\"/legal/copyright-policy?trk=d_checkpoint_lg_consumerLogin_ft_copyright_policy\">Copyright Policy</a></li><li id=\"feedback-request\"><a href=\"https://linkedin.com/help/linkedin?trk=d_checkpoint_lg_consumerLogin_ft_send_feedback&amp;lang=en\" target=\"_blank\" rel=\"nofollow noreferrer noopener\">Send Feedback</a></li></ul></div></div></footer><artdeco-toasts></artdeco-toasts><span class=\"hidden toast-success-icon\"><li-icon type=\"success-pebble-icon\" size=\"small\" aria-hidden=\"true\"><svg viewBox=\"0 0 24 24\" width=\"24px\" height=\"24px\" x=\"0\" y=\"0\" preserveAspectRatio=\"xMinYMin meet\" class=\"artdeco-icon\" focusable=\"false\"><g class=\"small-icon\" style=\"fill-opacity: 1\"><circle class=\"circle\" r=\"6.1\" stroke=\"currentColor\" stroke-width=\"1.8\" cx=\"8\" cy=\"8\" fill=\"none\" transform=\"rotate(-90 8 8)\"></circle><path d=\"M9.95,5.033l1.2,0.859l-3.375,4.775C7.625,10.875,7.386,10.999,7.13,11c-0.002,0-0.003,0-0.005,0    c-0.254,0-0.493-0.12-0.644-0.325L4.556,8.15l1.187-0.875l1.372,1.766L9.95,5.033z\" fill=\"currentColor\"></path></g></svg></li-icon></span><span class=\"hidden toast-error-icon\"><li-icon type=\"error-pebble-icon\" size=\"small\" aria-hidden=\"true\"><svg viewBox=\"0 0 24 24\" width=\"24px\" height=\"24px\" x=\"0\" y=\"0\" preserveAspectRatio=\"xMinYMin meet\" class=\"artdeco-icon\" focusable=\"false\"><g class=\"small-icon\" style=\"fill-opacity: 1\"><circle class=\"circle\" r=\"6.1\" stroke=\"currentColor\" stroke-width=\"1.8\" cx=\"8\" cy=\"8\" fill=\"none\" transform=\"rotate(-90 8 8)\"></circle><path fill=\"currentColor\" d=\"M10.916,6.216L9.132,8l1.784,1.784l-1.132,1.132L8,9.132l-1.784,1.784L5.084,9.784L6.918,8L5.084,6.216l1.132-1.132L8,6.868l1.784-1.784L10.916,6.216z\"></path></g></svg></li-icon></span><span class=\"hidden toast-notify-icon\"><li-icon type=\"yield-pebble-icon\" size=\"small\" aria-hidden=\"true\"><svg viewBox=\"0 0 24 24\" width=\"24px\" height=\"24px\" x=\"0\" y=\"0\" preserveAspectRatio=\"xMinYMin meet\" class=\"artdeco-icon\" focusable=\"false\"><g class=\"small-icon\" style=\"fill-opacity: 1\"><circle class=\"circle\" r=\"6.1\" stroke=\"currentColor\" stroke-width=\"1.8\" cx=\"8\" cy=\"8\" fill=\"none\" transform=\"rotate(-90 8 8)\"></circle><path d=\"M7,10h2v2H7V10z M7,9h2V4H7V9z\"></path></g></svg></li-icon></span><span class=\"hidden toast-gdpr-icon\"><li-icon aria-hidden=\"true\" type=\"shield-icon\" size=\"small\"><svg viewBox=\"0 0 24 24\" width=\"24px\" height=\"24px\" x=\"0\" y=\"0\" preserveAspectRatio=\"xMinYMin meet\" class=\"artdeco-icon\" focusable=\"false\"><path d=\"M8,1A10.89,10.89,0,0,1,2.87,3,1,1,0,0,0,2,4V9.33a5.67,5.67,0,0,0,2.91,5L8,16l3.09-1.71a5.67,5.67,0,0,0,2.91-5V4a1,1,0,0,0-.87-1A10.89,10.89,0,0,1,8,1ZM4,4.7A12.92,12.92,0,0,0,8,3.26a12.61,12.61,0,0,0,3.15,1.25L4.45,11.2A3.66,3.66,0,0,1,4,9.46V4.7Zm6.11,8L8,13.84,5.89,12.66A3.65,3.65,0,0,1,5,11.92l7-7V9.46A3.67,3.67,0,0,1,10.11,12.66Z\" class=\"small-icon\" style=\"fill-opacity: 1\"></path></svg></li-icon></span><span class=\"hidden toast-cancel-icon\"><li-icon type=\"cancel-icon\" size=\"large\"><svg x=\"0\" y=\"0\" id=\"cancel-icon\" preserveAspectRatio=\"xMinYMin meet\" viewBox=\"0 0 24 24\" width=\"24px\" height=\"24px\"><svg class=\"small-icon\" style=\"fill-opacity: 1;\"><path d=\"M12.99,4.248L9.237,8L13,11.763L11.763,13L8,9.237L4.237,13L3,11.763L6.763,8L3,4.237L4.237,3L8,6.763l3.752-3.752L12.99,4.248z\"></path></svg><svg class=\"large-icon\" style=\"fill: currentColor;\"><path d=\"M20,5.237l-6.763,6.768l6.743,6.747l-1.237,1.237L12,13.243L5.257,19.99l-1.237-1.237l6.743-6.747L4,5.237L5.237,4L12,10.768L18.763,4L20,5.237z\"></path></svg></svg></li-icon></span><div id=\"loader-wrapper\" class=\"hidden\"><li-icon type=\"loader\" class=\"blue\" size=\"medium\" aria-hidden=\"true\"><div class=\"artdeco-spinner\"><span class=\"artdeco-spinner-bars\"></span><span class=\"artdeco-spinner-bars\"></span><span class=\"artdeco-spinner-bars\"></span><span class=\"artdeco-spinner-bars\"></span><span class=\"artdeco-spinner-bars\"></span><span class=\"artdeco-spinner-bars\"></span><span class=\"artdeco-spinner-bars\"></span><span class=\"artdeco-spinner-bars\"></span><span class=\"artdeco-spinner-bars\"></span><span class=\"artdeco-spinner-bars\"></span><span class=\"artdeco-spinner-bars\"></span><span class=\"artdeco-spinner-bars\"></span></div></li-icon></div></div><code id=\"isDesktop\" style=\"display: none;\"><!--\"true\"--></code><script src=\"https://static-exp1.licdn.com/sc/h/br/3mslc7wqydu0opc2ljqxfaib6\"></script><script async=\"\" src=\"//platform.linkedin.com/js/analytics.js\"></script><script src=\"https://static-exp1.licdn.com/sc/h/br/evgvi1ia16cruy7mpyxpr1e0s\" defer=\"\"></script><code id=\"isGaTrackingEnabled\" style=\"display: none;\"><!--\"true\"--></code><script src=\"https://static-exp1.licdn.com/sc/h/br/5ue4cqc99h50m1f2ei251i0j7\" defer=\"\"></script><script src=\"https://static-exp1.licdn.com/sc/h/br/dhmxlfud9335e41e7qp04mh48\" defer=\"\"></script><code id=\"soogleLiScriptPath\" style=\"display: none;\"><!--\"https://static-exp1.licdn.com/sc/h/br/3mslc7wqydu0opc2ljqxfaib6\"--></code><code id=\"i18nErrorSoogleGeneralErrorMessage\" style=\"display: none;\"><!--\"Something went wrong. Please try using username and password.\"--></code><code id=\"lix_checkpoint_apfc_df_login\" style=\"display: none;\"><!--\"control\"--></code><code id=\"lix_cv_scoring_login_get_fingerprint\" style=\"display: none;\"><!--\"control\"--></code><code id=\"lix_checkpoint_litms_onboarding\" style=\"display: none;\"><!--\"treatment\"--></code><iframe src=\"https://smartlock.google.com/iframe/request?client=https%3A%2F%2Fwww.linkedin.com&amp;id=3a00c3e0d00f90873ee3c3d56838730b44da2fa74ff611b00bfe6e28a64a4229&amp;renderMode=navPopout&amp;preloadRequest=%7B%22type%22%3A%22hint%22%2C%22options%22%3A%7B%22supportedAuthMethods%22%3A%5B%22https%3A%2F%2Faccounts.google.com%22%5D%2C%22supportedIdTokenProviders%22%3A%5B%7B%22uri%22%3A%22https%3A%2F%2Faccounts.google.com%22%2C%22clientId%22%3A%22990339570472-k6nqn1tpmitg8pui82bfaun3jrpmiuhs.apps.googleusercontent.com%22%7D%5D%2C%22context%22%3A%22signIn%22%7D%7D&amp;features=%7B%22feature%22%3A%5B%22DISPLAY_RP_TOS%22%5D%7D\" hidden=\"\" style=\"border: none; position: fixed; z-index: 9999; display: none;\"></iframe></body></html>\n"
          ],
          "name": "stdout"
        }
      ]
    },
    {
      "cell_type": "code",
      "metadata": {
        "id": "ObrNpEXzXfzH",
        "outputId": "68e8b147-576a-47c9-9425-9f03b9fa1440"
      },
      "source": [
        "#Importing required packages\n",
        "import os,sys,time\n",
        "import requests\n",
        "from selenium import webdriver\n",
        "from bs4 import BeautifulSoup\n",
        "\n",
        "#Installing the google browser required for scrapping\n",
        "browser = webdriver.Chrome('driver/chromedriver.exe')\n",
        "#from selenium import webdriver\n",
        "#from webdriver_manager.chrome import ChromeDriverManager\n",
        "\n",
        "#driver = webdriver.Chrome(ChromeDriverManager().install())\n",
        "browser.get('https://www.linkedin.com/uas/login')\n",
        "\n",
        "#start=time.time()\n",
        "start1 = time.process_time()\n",
        "\n",
        "#Using the Stored login credentials for further use\n",
        "file = open('config.txt')\n",
        "lines = file.readlines()\n",
        "username = lines[0]\n",
        "password = lines[1]\n",
        "\n",
        "#Browsing the website and logging into the linkedin profile\n",
        "#Entering the username\n",
        "elementID = browser.find_element_by_id('username')\n",
        "elementID.send_keys(username)\n",
        "#Entering the password\n",
        "elementID = browser.find_element_by_id('password')\n",
        "elementID.send_keys(password)\n",
        "elementID.submit() #Logging in\n",
        "time.sleep(30)"
      ],
      "execution_count": null,
      "outputs": [
        {
          "output_type": "error",
          "ename": "SessionNotCreatedException",
          "evalue": "Message: session not created: This version of ChromeDriver only supports Chrome version 77\n",
          "traceback": [
            "\u001b[1;31m---------------------------------------------------------------------------\u001b[0m",
            "\u001b[1;31mSessionNotCreatedException\u001b[0m                Traceback (most recent call last)",
            "\u001b[1;32m<ipython-input-2-703649c61a9e>\u001b[0m in \u001b[0;36m<module>\u001b[1;34m\u001b[0m\n\u001b[0;32m      6\u001b[0m \u001b[1;33m\u001b[0m\u001b[0m\n\u001b[0;32m      7\u001b[0m \u001b[1;31m#Installing the google browser required for scrapping\u001b[0m\u001b[1;33m\u001b[0m\u001b[1;33m\u001b[0m\u001b[1;33m\u001b[0m\u001b[0m\n\u001b[1;32m----> 8\u001b[1;33m \u001b[0mbrowser\u001b[0m \u001b[1;33m=\u001b[0m \u001b[0mwebdriver\u001b[0m\u001b[1;33m.\u001b[0m\u001b[0mChrome\u001b[0m\u001b[1;33m(\u001b[0m\u001b[1;34m'driver/chromedriver.exe'\u001b[0m\u001b[1;33m)\u001b[0m\u001b[1;33m\u001b[0m\u001b[1;33m\u001b[0m\u001b[0m\n\u001b[0m\u001b[0;32m      9\u001b[0m \u001b[1;31m#from selenium import webdriver\u001b[0m\u001b[1;33m\u001b[0m\u001b[1;33m\u001b[0m\u001b[1;33m\u001b[0m\u001b[0m\n\u001b[0;32m     10\u001b[0m \u001b[1;31m#from webdriver_manager.chrome import ChromeDriverManager\u001b[0m\u001b[1;33m\u001b[0m\u001b[1;33m\u001b[0m\u001b[1;33m\u001b[0m\u001b[0m\n",
            "\u001b[1;32m~\\Anaconda3\\lib\\site-packages\\selenium\\webdriver\\chrome\\webdriver.py\u001b[0m in \u001b[0;36m__init__\u001b[1;34m(self, executable_path, port, options, service_args, desired_capabilities, service_log_path, chrome_options, keep_alive)\u001b[0m\n\u001b[0;32m     79\u001b[0m                     \u001b[0mremote_server_addr\u001b[0m\u001b[1;33m=\u001b[0m\u001b[0mself\u001b[0m\u001b[1;33m.\u001b[0m\u001b[0mservice\u001b[0m\u001b[1;33m.\u001b[0m\u001b[0mservice_url\u001b[0m\u001b[1;33m,\u001b[0m\u001b[1;33m\u001b[0m\u001b[1;33m\u001b[0m\u001b[0m\n\u001b[0;32m     80\u001b[0m                     keep_alive=keep_alive),\n\u001b[1;32m---> 81\u001b[1;33m                 desired_capabilities=desired_capabilities)\n\u001b[0m\u001b[0;32m     82\u001b[0m         \u001b[1;32mexcept\u001b[0m \u001b[0mException\u001b[0m\u001b[1;33m:\u001b[0m\u001b[1;33m\u001b[0m\u001b[1;33m\u001b[0m\u001b[0m\n\u001b[0;32m     83\u001b[0m             \u001b[0mself\u001b[0m\u001b[1;33m.\u001b[0m\u001b[0mquit\u001b[0m\u001b[1;33m(\u001b[0m\u001b[1;33m)\u001b[0m\u001b[1;33m\u001b[0m\u001b[1;33m\u001b[0m\u001b[0m\n",
            "\u001b[1;32m~\\Anaconda3\\lib\\site-packages\\selenium\\webdriver\\remote\\webdriver.py\u001b[0m in \u001b[0;36m__init__\u001b[1;34m(self, command_executor, desired_capabilities, browser_profile, proxy, keep_alive, file_detector, options)\u001b[0m\n\u001b[0;32m    155\u001b[0m             warnings.warn(\"Please use FirefoxOptions to set browser profile\",\n\u001b[0;32m    156\u001b[0m                           DeprecationWarning, stacklevel=2)\n\u001b[1;32m--> 157\u001b[1;33m         \u001b[0mself\u001b[0m\u001b[1;33m.\u001b[0m\u001b[0mstart_session\u001b[0m\u001b[1;33m(\u001b[0m\u001b[0mcapabilities\u001b[0m\u001b[1;33m,\u001b[0m \u001b[0mbrowser_profile\u001b[0m\u001b[1;33m)\u001b[0m\u001b[1;33m\u001b[0m\u001b[1;33m\u001b[0m\u001b[0m\n\u001b[0m\u001b[0;32m    158\u001b[0m         \u001b[0mself\u001b[0m\u001b[1;33m.\u001b[0m\u001b[0m_switch_to\u001b[0m \u001b[1;33m=\u001b[0m \u001b[0mSwitchTo\u001b[0m\u001b[1;33m(\u001b[0m\u001b[0mself\u001b[0m\u001b[1;33m)\u001b[0m\u001b[1;33m\u001b[0m\u001b[1;33m\u001b[0m\u001b[0m\n\u001b[0;32m    159\u001b[0m         \u001b[0mself\u001b[0m\u001b[1;33m.\u001b[0m\u001b[0m_mobile\u001b[0m \u001b[1;33m=\u001b[0m \u001b[0mMobile\u001b[0m\u001b[1;33m(\u001b[0m\u001b[0mself\u001b[0m\u001b[1;33m)\u001b[0m\u001b[1;33m\u001b[0m\u001b[1;33m\u001b[0m\u001b[0m\n",
            "\u001b[1;32m~\\Anaconda3\\lib\\site-packages\\selenium\\webdriver\\remote\\webdriver.py\u001b[0m in \u001b[0;36mstart_session\u001b[1;34m(self, capabilities, browser_profile)\u001b[0m\n\u001b[0;32m    250\u001b[0m         parameters = {\"capabilities\": w3c_caps,\n\u001b[0;32m    251\u001b[0m                       \"desiredCapabilities\": capabilities}\n\u001b[1;32m--> 252\u001b[1;33m         \u001b[0mresponse\u001b[0m \u001b[1;33m=\u001b[0m \u001b[0mself\u001b[0m\u001b[1;33m.\u001b[0m\u001b[0mexecute\u001b[0m\u001b[1;33m(\u001b[0m\u001b[0mCommand\u001b[0m\u001b[1;33m.\u001b[0m\u001b[0mNEW_SESSION\u001b[0m\u001b[1;33m,\u001b[0m \u001b[0mparameters\u001b[0m\u001b[1;33m)\u001b[0m\u001b[1;33m\u001b[0m\u001b[1;33m\u001b[0m\u001b[0m\n\u001b[0m\u001b[0;32m    253\u001b[0m         \u001b[1;32mif\u001b[0m \u001b[1;34m'sessionId'\u001b[0m \u001b[1;32mnot\u001b[0m \u001b[1;32min\u001b[0m \u001b[0mresponse\u001b[0m\u001b[1;33m:\u001b[0m\u001b[1;33m\u001b[0m\u001b[1;33m\u001b[0m\u001b[0m\n\u001b[0;32m    254\u001b[0m             \u001b[0mresponse\u001b[0m \u001b[1;33m=\u001b[0m \u001b[0mresponse\u001b[0m\u001b[1;33m[\u001b[0m\u001b[1;34m'value'\u001b[0m\u001b[1;33m]\u001b[0m\u001b[1;33m\u001b[0m\u001b[1;33m\u001b[0m\u001b[0m\n",
            "\u001b[1;32m~\\Anaconda3\\lib\\site-packages\\selenium\\webdriver\\remote\\webdriver.py\u001b[0m in \u001b[0;36mexecute\u001b[1;34m(self, driver_command, params)\u001b[0m\n\u001b[0;32m    319\u001b[0m         \u001b[0mresponse\u001b[0m \u001b[1;33m=\u001b[0m \u001b[0mself\u001b[0m\u001b[1;33m.\u001b[0m\u001b[0mcommand_executor\u001b[0m\u001b[1;33m.\u001b[0m\u001b[0mexecute\u001b[0m\u001b[1;33m(\u001b[0m\u001b[0mdriver_command\u001b[0m\u001b[1;33m,\u001b[0m \u001b[0mparams\u001b[0m\u001b[1;33m)\u001b[0m\u001b[1;33m\u001b[0m\u001b[1;33m\u001b[0m\u001b[0m\n\u001b[0;32m    320\u001b[0m         \u001b[1;32mif\u001b[0m \u001b[0mresponse\u001b[0m\u001b[1;33m:\u001b[0m\u001b[1;33m\u001b[0m\u001b[1;33m\u001b[0m\u001b[0m\n\u001b[1;32m--> 321\u001b[1;33m             \u001b[0mself\u001b[0m\u001b[1;33m.\u001b[0m\u001b[0merror_handler\u001b[0m\u001b[1;33m.\u001b[0m\u001b[0mcheck_response\u001b[0m\u001b[1;33m(\u001b[0m\u001b[0mresponse\u001b[0m\u001b[1;33m)\u001b[0m\u001b[1;33m\u001b[0m\u001b[1;33m\u001b[0m\u001b[0m\n\u001b[0m\u001b[0;32m    322\u001b[0m             response['value'] = self._unwrap_value(\n\u001b[0;32m    323\u001b[0m                 response.get('value', None))\n",
            "\u001b[1;32m~\\Anaconda3\\lib\\site-packages\\selenium\\webdriver\\remote\\errorhandler.py\u001b[0m in \u001b[0;36mcheck_response\u001b[1;34m(self, response)\u001b[0m\n\u001b[0;32m    240\u001b[0m                 \u001b[0malert_text\u001b[0m \u001b[1;33m=\u001b[0m \u001b[0mvalue\u001b[0m\u001b[1;33m[\u001b[0m\u001b[1;34m'alert'\u001b[0m\u001b[1;33m]\u001b[0m\u001b[1;33m.\u001b[0m\u001b[0mget\u001b[0m\u001b[1;33m(\u001b[0m\u001b[1;34m'text'\u001b[0m\u001b[1;33m)\u001b[0m\u001b[1;33m\u001b[0m\u001b[1;33m\u001b[0m\u001b[0m\n\u001b[0;32m    241\u001b[0m             \u001b[1;32mraise\u001b[0m \u001b[0mexception_class\u001b[0m\u001b[1;33m(\u001b[0m\u001b[0mmessage\u001b[0m\u001b[1;33m,\u001b[0m \u001b[0mscreen\u001b[0m\u001b[1;33m,\u001b[0m \u001b[0mstacktrace\u001b[0m\u001b[1;33m,\u001b[0m \u001b[0malert_text\u001b[0m\u001b[1;33m)\u001b[0m\u001b[1;33m\u001b[0m\u001b[1;33m\u001b[0m\u001b[0m\n\u001b[1;32m--> 242\u001b[1;33m         \u001b[1;32mraise\u001b[0m \u001b[0mexception_class\u001b[0m\u001b[1;33m(\u001b[0m\u001b[0mmessage\u001b[0m\u001b[1;33m,\u001b[0m \u001b[0mscreen\u001b[0m\u001b[1;33m,\u001b[0m \u001b[0mstacktrace\u001b[0m\u001b[1;33m)\u001b[0m\u001b[1;33m\u001b[0m\u001b[1;33m\u001b[0m\u001b[0m\n\u001b[0m\u001b[0;32m    243\u001b[0m \u001b[1;33m\u001b[0m\u001b[0m\n\u001b[0;32m    244\u001b[0m     \u001b[1;32mdef\u001b[0m \u001b[0m_value_or_default\u001b[0m\u001b[1;33m(\u001b[0m\u001b[0mself\u001b[0m\u001b[1;33m,\u001b[0m \u001b[0mobj\u001b[0m\u001b[1;33m,\u001b[0m \u001b[0mkey\u001b[0m\u001b[1;33m,\u001b[0m \u001b[0mdefault\u001b[0m\u001b[1;33m)\u001b[0m\u001b[1;33m:\u001b[0m\u001b[1;33m\u001b[0m\u001b[1;33m\u001b[0m\u001b[0m\n",
            "\u001b[1;31mSessionNotCreatedException\u001b[0m: Message: session not created: This version of ChromeDriver only supports Chrome version 77\n"
          ]
        }
      ]
    },
    {
      "cell_type": "code",
      "metadata": {
        "id": "I1eQ17QUXf0C"
      },
      "source": [
        "name=[]\n",
        "loc=[]\n",
        "title=[]\n",
        "connection=[]\n",
        "summary=[]\n",
        "job_title=[]\n",
        "company_name=[]\n",
        "joining_date=[]\n",
        "exp=[]\n",
        "college_name=[]\n",
        "degree_name=[]\n",
        "degree_year=[]\n",
        "skills=[]\n",
        "name_1=[]\n",
        "posts=[]\n",
        "articles=[]"
      ],
      "execution_count": null,
      "outputs": []
    },
    {
      "cell_type": "code",
      "metadata": {
        "id": "SnyDjeJYXf0R"
      },
      "source": [
        "import pandas as pd\n",
        "df1=pd.read_csv('Link.csv')\n",
        "#df1.head()\n",
        "url=[]\n",
        "url=df1['URL']\n",
        "print(url)"
      ],
      "execution_count": null,
      "outputs": []
    },
    {
      "cell_type": "code",
      "metadata": {
        "id": "XAR49KygXf0k"
      },
      "source": [
        "def get_profile_details(soup,i):\n",
        "    e=0\n",
        "    article=0\n",
        "    post=0\n",
        "    q=i\n",
        "    try:\n",
        "        name_div = soup.find('div', {'class': 'flex-1 mr5'})\n",
        "        name_loc = name_div.find_all('ul')\n",
        "        name.append(name_loc[0].find('li').get_text().strip())\n",
        "        loc.append(name_loc[1].find('li').get_text().strip())\n",
        "        title.append(name_div.find('h2').get_text().strip())\n",
        "\n",
        "        connect = name_loc[1].find_all('li')\n",
        "        connection.append(connect[1].get_text().strip())\n",
        "\n",
        "        exp_section = soup.find('section', {'id': 'experience-section'})\n",
        "        exp_section = exp_section.find('ul')\n",
        "        li_tags = exp_section.find('div')\n",
        "        a_tags = li_tags.find('a')\n",
        "\n",
        "        if (a_tags.find_all('p')):\n",
        "            job_title.append(a_tags.find('h3').get_text().strip())\n",
        "            company_name.append(a_tags.find_all('p')[1].get_text().strip())\n",
        "            joining_date.append(a_tags.find_all('h4')[0].find_all('span')[1].get_text().strip())\n",
        "            exp.append(a_tags.find_all('h4')[1].find_all('span')[1].get_text().strip())\n",
        "        else:\n",
        "            exp_section_ = soup.find('section', {'id': 'experience-section'})\n",
        "            exp_section=exp_section_.find('div',{'class':'pv-entity__company-summary-info'})\n",
        "            company_name.append(exp_section.find('h3').get_text().strip().replace('\\n',' '))\n",
        "            job_title.append('')\n",
        "            joining_date.append('')\n",
        "            exp.append(exp_section.find_all('h4')[0].find_all('span')[1].get_text().strip())\n",
        "\n",
        "        edu_section = soup.find('section', {'id': 'education-section'})\n",
        "        college_name.append(edu_section.find('h3').get_text().strip())\n",
        "        degree_name.append(edu_section.find('p', {'class': 'pv-entity__secondary-title pv-entity__degree-name t-14 t-black t-normal'}).find_all('span')[1].get_text().strip())\n",
        "        degree_year.append(edu_section.find('p', {'class': 'pv-entity__dates t-14 t-black--light t-normal'}).find_all('span')[1].get_text().strip())\n",
        "\n",
        "        about_section  = soup.find('p', {'class': 'pv-about__summary-text mt4 t-14 ember-view'})\n",
        "        summary.append(about_section.get_text().strip())\n",
        "\n",
        "        #Activities:\n",
        "        #src = browser.page_source\n",
        "        #soup1 = BeautifulSoup(src, 'lxml')\n",
        "        f=soup.find('a',{'class': 'artdeco-button--1 ember-view'})\n",
        "        if (f):\n",
        "            t=f.get('href')\n",
        "            full_link='https://www.linkedin.com'+t  #full_link of the activities of the profile\n",
        "\n",
        "            browser.get(full_link) #Browser goes to the Activities page of the account\n",
        "            time.sleep(5)\n",
        "\n",
        "            src = browser.page_source\n",
        "            soup2 = BeautifulSoup(src, 'lxml')\n",
        "\n",
        "            activities=soup2.find_all('button',{'class':'pv-recent-activity-detail__pill mr2 artdeco-pill artdeco-pill--slate artdeco-pill--3 artdeco-pill--toggle ember-view'})\n",
        "            article_id=activities[0].get('id')\n",
        "            post_id=activities[1].get('id')\n",
        "\n",
        "            post=get_post(post_id)\n",
        "            posts.append(post)\n",
        "\n",
        "            article=get_article(article_id,full_link)\n",
        "            articles.append(article)\n",
        "        else:\n",
        "            article='-'\n",
        "            post='-'\n",
        "            posts.append(post)\n",
        "            articles.append(article)\n",
        "            #continue\n",
        "\n",
        "    except Exception:\n",
        "        name_1.append(name[q])\n",
        "        e+=1\n",
        "    return (e,article,post)\n",
        ""
      ],
      "execution_count": null,
      "outputs": []
    },
    {
      "cell_type": "code",
      "metadata": {
        "id": "vTIY1smFXf02"
      },
      "source": [
        "def Scrape_image(soup,i):\n",
        "    e=0\n",
        "    try:\n",
        "        q=i\n",
        "        img_dp=soup.find('div',{'class':'pv-top-card__photo-wrapper ml0'})\n",
        "        #For image Extraction:\n",
        "        ext=\".jpg\"\n",
        "        n = name[q] + ext\n",
        "\n",
        "        for link in img_dp.find_all('img'):\n",
        "            src_dp = link.get('src')\n",
        "        if (src_dp):\n",
        "            with open(n, 'wb') as handle:\n",
        "                response = requests.get(src_dp, stream=True)\n",
        "\n",
        "                if not response.ok:\n",
        "                    print (response)\n",
        "\n",
        "                for block in response.iter_content(1024):\n",
        "                    if not block:\n",
        "                        break\n",
        "\n",
        "                    handle.write(block)\n",
        "    except Exception:\n",
        "        name_1[q].append(name[q])\n",
        "        e+=1\n",
        "    return(e)"
      ],
      "execution_count": null,
      "outputs": []
    },
    {
      "cell_type": "code",
      "metadata": {
        "id": "YAlMHYfYXf1H"
      },
      "source": [
        "def get_article(_id,full_link):\n",
        "    browser.get(full_link)\n",
        "    time.sleep(5)\n",
        "    browser.find_element_by_id(_id).click()\n",
        "    SCROLL_PAUSE_TIME = 0.5\n",
        "\n",
        "    # Get scroll height\n",
        "    last_height = browser.execute_script(\"return document.body.scrollHeight\")\n",
        "\n",
        "    while True:\n",
        "        # Scroll down to bottom\n",
        "        browser.execute_script(\"window.scrollTo(0, document.body.scrollHeight);\")\n",
        "\n",
        "        # Wait to load page\n",
        "        time.sleep(SCROLL_PAUSE_TIME)\n",
        "\n",
        "        # Calculate new scroll height and compare with last scroll height\n",
        "        new_height = browser.execute_script(\"return document.body.scrollHeight\")\n",
        "        if new_height == last_height:\n",
        "            break\n",
        "        last_height = new_height\n",
        "\n",
        "    src = browser.page_source\n",
        "    soup = BeautifulSoup(src, 'lxml')\n",
        "\n",
        "    articles = soup.find_all('article', {'class': 'pv-post-entity--detail-page-format artdeco-container-card pv-post-entity pv-post-entity--detailed ember-view'})\n",
        "    return(len(articles))"
      ],
      "execution_count": null,
      "outputs": []
    },
    {
      "cell_type": "code",
      "metadata": {
        "id": "SxvDpDMIXf1W"
      },
      "source": [
        "def get_post(_id):\n",
        "    browser.find_element_by_id(_id).click()\n",
        "    SCROLL_PAUSE_TIME = 0.5\n",
        "\n",
        "    # Get scroll height\n",
        "    last_height = browser.execute_script(\"return document.body.scrollHeight\")\n",
        "\n",
        "    while True:\n",
        "        # Scroll down to bottom\n",
        "        browser.execute_script(\"window.scrollTo(0, document.body.scrollHeight);\")\n",
        "\n",
        "        # Wait to load page\n",
        "        time.sleep(SCROLL_PAUSE_TIME)\n",
        "\n",
        "        # Calculate new scroll height and compare with last scroll height\n",
        "        new_height = browser.execute_script(\"return document.body.scrollHeight\")\n",
        "        if new_height == last_height:\n",
        "            break\n",
        "        last_height = new_height\n",
        "\n",
        "    src = browser.page_source\n",
        "    soup = BeautifulSoup(src, 'lxml')\n",
        "\n",
        "    posts = soup.find_all('div', {'class': 'occludable-update ember-view'})\n",
        "    return(len(posts))"
      ],
      "execution_count": null,
      "outputs": []
    },
    {
      "cell_type": "code",
      "metadata": {
        "id": "2B2o9iY8Xf1l"
      },
      "source": [
        "for i in range(0,len(url)):\n",
        "\n",
        "    link=url[i]\n",
        "    browser.get(link)\n",
        "    time.sleep(10)\n",
        "       # For error handling in summary\n",
        "    browser.execute_script(\"window.scrollTo(0,650);\")\n",
        "    src = browser.page_source\n",
        "    soup_ = BeautifulSoup(src, 'lxml')\n",
        "    see_more=None\n",
        "    see_more=soup_.find_all('a',{'class':'lt-line-clamp__more'})\n",
        "\n",
        "    try:\n",
        "        if (len(see_more) > 1):\n",
        "            #browser.find_element_by_class_name('lt-line-clamp__more').click() #For getting the entire sabout details of the linkedin profile\n",
        "            browser.find_element_by_id('line-clamp-show-more-button').click()\n",
        "        #If Exception error use try catch method and make the browser to scrolld own a bit.\n",
        "    except Exception:\n",
        "        browser.execute_script(\"window.scrollTo(650,1400);\")\n",
        "        browser.find_element_by_id('line-clamp-show-more-button').click()\n",
        "\n",
        "    #browser.execute_script(\"window.scrollTo(650,0);\")\n",
        "    browser.execute_script(\"window.scrollTo(0,document.body.scrollHeight);\")\n",
        "    browser.execute_script(\"window.scrollTo(document.body.scrollHeight,0);\")\n",
        "    time.sleep(15)\n",
        "    browser.execute_script(\"window.scrollTo(0,1000);\")\n",
        "    time.sleep(15)\n",
        "    browser.execute_script(\"window.scrollTo(1000,2000);\")\n",
        "    time.sleep(15)\n",
        "    browser.execute_script(\"window.scrollTo(2000,3000);\")\n",
        "    time.sleep(15)\n",
        "    browser.execute_script(\"window.scrollTo(3000,document.body.scrollHeight);\")\n",
        "\n",
        "    src = browser.page_source\n",
        "    soup = BeautifulSoup(src, 'lxml')\n",
        "\n",
        "    m,o,u=get_profile_details(soup,i) #profile Extraction\n",
        "    print(m,o,u)\n",
        "    if m<1:\n",
        "        n=Scrape_image(soup,i) #Image Extraction\n",
        "        print('n:',n)\n",
        "        if n>0:\n",
        "            continue\n",
        "    else:\n",
        "        continue\n",
        "\n",
        ""
      ],
      "execution_count": null,
      "outputs": []
    },
    {
      "cell_type": "code",
      "metadata": {
        "id": "-tUWo9s8Xf12"
      },
      "source": [
        "\n",
        "df = pd.DataFrame({'Name':name,'Location':loc,'Connections':connection,'Header':title,'About':summary,'Company name':company_name,'Job_title':job_title,'Joining date':joining_date,'Experience':exp,'college_name':college_name,'Degree':degree_name,'Degree_year':degree_year,'Posts':posts,'Articles':articles})\n",
        "df['About'] = df['About'].replace('\\n... see more','')\n",
        "#df=df.fillna('-')\n",
        "df['Job_title']=df['Job_title'].replace(to_replace =\"\",\n",
        "                 value =\"-\")\n",
        "df.to_csv('LinkedIN.csv')\n"
      ],
      "execution_count": null,
      "outputs": []
    },
    {
      "cell_type": "code",
      "metadata": {
        "id": "vxW1RelbXf2E"
      },
      "source": [
        "df"
      ],
      "execution_count": null,
      "outputs": []
    },
    {
      "cell_type": "code",
      "metadata": {
        "id": "mMB4_PfTXf2Q"
      },
      "source": [
        "browser.quit()"
      ],
      "execution_count": null,
      "outputs": []
    },
    {
      "cell_type": "code",
      "metadata": {
        "id": "WkyL5qp4Xf2f"
      },
      "source": [
        "len(summary)"
      ],
      "execution_count": null,
      "outputs": []
    },
    {
      "cell_type": "code",
      "metadata": {
        "id": "ukoPdPYEXf2u"
      },
      "source": [
        "#name\n",
        "#len(loc)\n",
        "#len(title)\n",
        "#len(connection)\n",
        "len(summary)\n",
        "#len(job_title)\n",
        "#len(company_name)\n",
        "#len(joining_date)\n",
        "#exp=[]\n",
        "#college_name=[]\n",
        "#degree_name=[]\n",
        "#degree_year=[]\n",
        "#skills=[]\n",
        "#name_1=[]"
      ],
      "execution_count": null,
      "outputs": []
    },
    {
      "cell_type": "code",
      "metadata": {
        "id": "PW-pME_xXf23"
      },
      "source": [
        "def headline_score(loc,con,job,text):\n",
        "    comment=[]\n",
        "    head_score=10\n",
        "\n",
        "    locations=['Sydney','New South Wales','Australia','Melbourne', 'Victoria','Greater Sydney Area']\n",
        "    x=re.search('[|]', str(text))\n",
        "    print(job)\n",
        "    text1=text.split('|') #Splitting the headline\n",
        "    con=con.split()\n",
        "\n",
        "    if len(text1) > 3: #Too many tabs\n",
        "        head_score-= 1\n",
        "        comment.append('Keep heading short and concise ')\n",
        "    if (x == None):\n",
        "        head_score-=2\n",
        "        comment.append('Keep the Headline seprated by !')\n",
        "    if (job not in text1[0]):\n",
        "        head_score-=1\n",
        "        comment.append('Make Sure your headline starts with Job Title')\n",
        "    if all(y not in loc for y in locations):\n",
        "        head_score-=1\n",
        "        comment.append('Update your location')\n",
        "    if((con[0]) =='500+'):\n",
        "        head_score+=1\n",
        "    elif (int(con[0])<250):\n",
        "        head_score-=2\n",
        "        comment.append('Improve your number of connections')\n",
        "    elif(int(con[0])>=250 & int(con[0])<500):\n",
        "        head_score-=1\n",
        "        comment.append('Improve your number of connections')\n",
        "\n",
        "    if (head_score<0):\n",
        "        head_score=0\n",
        "    elif(head_score>10):\n",
        "        head_score=10\n",
        "\n",
        "    return(head_score,comment)"
      ],
      "execution_count": null,
      "outputs": []
    },
    {
      "cell_type": "code",
      "metadata": {
        "id": "fM8Y9vyUXf3E"
      },
      "source": [
        "def position_score(pos):\n",
        "    pos_score=10\n",
        "    pos=pos.split('\\n')\n",
        "    comment=[]\n",
        "    print(pos)\n",
        "    if isinstance(pos,list):\n",
        "        if(pos[0] !='AI Australia'):\n",
        "            pos_score-=5\n",
        "            comment.append('Update your position with AI Australia')\n",
        "    else:\n",
        "        if(pos!='AI Australia'):\n",
        "            pos_score-=5\n",
        "            comment.append('Update your position with AI Australia')\n",
        "    return(pos_score,comment)"
      ],
      "execution_count": null,
      "outputs": []
    },
    {
      "cell_type": "code",
      "metadata": {
        "id": "7O3r-6KyXf3Q"
      },
      "source": [
        "df = pd.read_csv(\"LinkedIN.csv\")\n",
        "df.columns\n",
        "#df=df.drop('Unnamed: 0', axis=1)"
      ],
      "execution_count": null,
      "outputs": []
    },
    {
      "cell_type": "code",
      "metadata": {
        "id": "YgENct1gXf3b"
      },
      "source": [
        "import re\n",
        "head_score=[]\n",
        "pos_scr=[]\n",
        "comment=[]\n",
        "\n",
        "for i in range(len(df)):\n",
        "    print(i)\n",
        "\n",
        "    text=df['Header'][i]\n",
        "    job=df['Job_title'][i]\n",
        "    loc=df['Location'][i]\n",
        "    con=df['Connections'][i]\n",
        "    pos=df['Company name'][i]\n",
        "\n",
        "    scr,com=headline_score(loc,con,job,text)\n",
        "    scr1,com1=position_score(pos)\n",
        "\n",
        "\n",
        "    head_score.append(scr)\n",
        "    pos_scr.append(scr1)\n",
        "    comment.append(com+com1)\n",
        "\n",
        ""
      ],
      "execution_count": null,
      "outputs": []
    },
    {
      "cell_type": "code",
      "metadata": {
        "id": "dzqd4JdFXf3j"
      },
      "source": [
        "comment"
      ],
      "execution_count": null,
      "outputs": []
    },
    {
      "cell_type": "code",
      "metadata": {
        "id": "ovHib2aXXf3t"
      },
      "source": [
        "head_score"
      ],
      "execution_count": null,
      "outputs": []
    },
    {
      "cell_type": "code",
      "metadata": {
        "id": "lbGG8HRyXf34"
      },
      "source": [
        "pos_scr"
      ],
      "execution_count": null,
      "outputs": []
    },
    {
      "cell_type": "code",
      "metadata": {
        "id": "JtVMmVLGXf4J"
      },
      "source": [
        "df['Headline_score']=head_score\n",
        "df['Position_score']=pos_scr\n",
        "df['Comment']=comment\n",
        "\n",
        "df\n"
      ],
      "execution_count": null,
      "outputs": []
    },
    {
      "cell_type": "code",
      "metadata": {
        "id": "HODjohFYXf4U"
      },
      "source": [
        "df.to_csv('LinkedIN.csv')\n"
      ],
      "execution_count": null,
      "outputs": []
    },
    {
      "cell_type": "code",
      "metadata": {
        "id": "DoToquKHXf4c"
      },
      "source": [],
      "execution_count": null,
      "outputs": []
    }
  ]
}